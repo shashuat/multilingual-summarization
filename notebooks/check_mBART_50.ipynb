{
  "nbformat": 4,
  "nbformat_minor": 0,
  "metadata": {
    "colab": {
      "provenance": [],
      "gpuType": "L4"
    },
    "kernelspec": {
      "name": "python3",
      "display_name": "Python 3"
    },
    "language_info": {
      "name": "python"
    },
    "accelerator": "GPU",
    "widgets": {
      "application/vnd.jupyter.widget-state+json": {
        "e8c8129f40eb41308cea2650a2f1eefa": {
          "model_module": "@jupyter-widgets/controls",
          "model_name": "HBoxModel",
          "model_module_version": "1.5.0",
          "state": {
            "_dom_classes": [],
            "_model_module": "@jupyter-widgets/controls",
            "_model_module_version": "1.5.0",
            "_model_name": "HBoxModel",
            "_view_count": null,
            "_view_module": "@jupyter-widgets/controls",
            "_view_module_version": "1.5.0",
            "_view_name": "HBoxView",
            "box_style": "",
            "children": [
              "IPY_MODEL_de1bfdb21bba411294f06599edb84f5f",
              "IPY_MODEL_38605d85c5074122971a69b0b43cd7c6",
              "IPY_MODEL_78ee97458b7b4052871528b8a012647c"
            ],
            "layout": "IPY_MODEL_edfabcf95f064eabaf0f8f718101bfdc"
          }
        },
        "de1bfdb21bba411294f06599edb84f5f": {
          "model_module": "@jupyter-widgets/controls",
          "model_name": "HTMLModel",
          "model_module_version": "1.5.0",
          "state": {
            "_dom_classes": [],
            "_model_module": "@jupyter-widgets/controls",
            "_model_module_version": "1.5.0",
            "_model_name": "HTMLModel",
            "_view_count": null,
            "_view_module": "@jupyter-widgets/controls",
            "_view_module_version": "1.5.0",
            "_view_name": "HTMLView",
            "description": "",
            "description_tooltip": null,
            "layout": "IPY_MODEL_a04eff52173142abbe82291696278b77",
            "placeholder": "​",
            "style": "IPY_MODEL_1d4f35e0f6494f0a8e3188bc747c6ba2",
            "value": "Map: 100%"
          }
        },
        "38605d85c5074122971a69b0b43cd7c6": {
          "model_module": "@jupyter-widgets/controls",
          "model_name": "FloatProgressModel",
          "model_module_version": "1.5.0",
          "state": {
            "_dom_classes": [],
            "_model_module": "@jupyter-widgets/controls",
            "_model_module_version": "1.5.0",
            "_model_name": "FloatProgressModel",
            "_view_count": null,
            "_view_module": "@jupyter-widgets/controls",
            "_view_module_version": "1.5.0",
            "_view_name": "ProgressView",
            "bar_style": "success",
            "description": "",
            "description_tooltip": null,
            "layout": "IPY_MODEL_ccb9f077f61442819caed545d47b2154",
            "max": 3999,
            "min": 0,
            "orientation": "horizontal",
            "style": "IPY_MODEL_da6aef7223d8476b9265c4547cfd12e7",
            "value": 3999
          }
        },
        "78ee97458b7b4052871528b8a012647c": {
          "model_module": "@jupyter-widgets/controls",
          "model_name": "HTMLModel",
          "model_module_version": "1.5.0",
          "state": {
            "_dom_classes": [],
            "_model_module": "@jupyter-widgets/controls",
            "_model_module_version": "1.5.0",
            "_model_name": "HTMLModel",
            "_view_count": null,
            "_view_module": "@jupyter-widgets/controls",
            "_view_module_version": "1.5.0",
            "_view_name": "HTMLView",
            "description": "",
            "description_tooltip": null,
            "layout": "IPY_MODEL_c213447f23434b2eb477fb056720e017",
            "placeholder": "​",
            "style": "IPY_MODEL_eebbae247ebd4a4881a58f0d2cbdd125",
            "value": " 3999/3999 [00:18&lt;00:00, 218.53 examples/s]"
          }
        },
        "edfabcf95f064eabaf0f8f718101bfdc": {
          "model_module": "@jupyter-widgets/base",
          "model_name": "LayoutModel",
          "model_module_version": "1.2.0",
          "state": {
            "_model_module": "@jupyter-widgets/base",
            "_model_module_version": "1.2.0",
            "_model_name": "LayoutModel",
            "_view_count": null,
            "_view_module": "@jupyter-widgets/base",
            "_view_module_version": "1.2.0",
            "_view_name": "LayoutView",
            "align_content": null,
            "align_items": null,
            "align_self": null,
            "border": null,
            "bottom": null,
            "display": null,
            "flex": null,
            "flex_flow": null,
            "grid_area": null,
            "grid_auto_columns": null,
            "grid_auto_flow": null,
            "grid_auto_rows": null,
            "grid_column": null,
            "grid_gap": null,
            "grid_row": null,
            "grid_template_areas": null,
            "grid_template_columns": null,
            "grid_template_rows": null,
            "height": null,
            "justify_content": null,
            "justify_items": null,
            "left": null,
            "margin": null,
            "max_height": null,
            "max_width": null,
            "min_height": null,
            "min_width": null,
            "object_fit": null,
            "object_position": null,
            "order": null,
            "overflow": null,
            "overflow_x": null,
            "overflow_y": null,
            "padding": null,
            "right": null,
            "top": null,
            "visibility": null,
            "width": null
          }
        },
        "a04eff52173142abbe82291696278b77": {
          "model_module": "@jupyter-widgets/base",
          "model_name": "LayoutModel",
          "model_module_version": "1.2.0",
          "state": {
            "_model_module": "@jupyter-widgets/base",
            "_model_module_version": "1.2.0",
            "_model_name": "LayoutModel",
            "_view_count": null,
            "_view_module": "@jupyter-widgets/base",
            "_view_module_version": "1.2.0",
            "_view_name": "LayoutView",
            "align_content": null,
            "align_items": null,
            "align_self": null,
            "border": null,
            "bottom": null,
            "display": null,
            "flex": null,
            "flex_flow": null,
            "grid_area": null,
            "grid_auto_columns": null,
            "grid_auto_flow": null,
            "grid_auto_rows": null,
            "grid_column": null,
            "grid_gap": null,
            "grid_row": null,
            "grid_template_areas": null,
            "grid_template_columns": null,
            "grid_template_rows": null,
            "height": null,
            "justify_content": null,
            "justify_items": null,
            "left": null,
            "margin": null,
            "max_height": null,
            "max_width": null,
            "min_height": null,
            "min_width": null,
            "object_fit": null,
            "object_position": null,
            "order": null,
            "overflow": null,
            "overflow_x": null,
            "overflow_y": null,
            "padding": null,
            "right": null,
            "top": null,
            "visibility": null,
            "width": null
          }
        },
        "1d4f35e0f6494f0a8e3188bc747c6ba2": {
          "model_module": "@jupyter-widgets/controls",
          "model_name": "DescriptionStyleModel",
          "model_module_version": "1.5.0",
          "state": {
            "_model_module": "@jupyter-widgets/controls",
            "_model_module_version": "1.5.0",
            "_model_name": "DescriptionStyleModel",
            "_view_count": null,
            "_view_module": "@jupyter-widgets/base",
            "_view_module_version": "1.2.0",
            "_view_name": "StyleView",
            "description_width": ""
          }
        },
        "ccb9f077f61442819caed545d47b2154": {
          "model_module": "@jupyter-widgets/base",
          "model_name": "LayoutModel",
          "model_module_version": "1.2.0",
          "state": {
            "_model_module": "@jupyter-widgets/base",
            "_model_module_version": "1.2.0",
            "_model_name": "LayoutModel",
            "_view_count": null,
            "_view_module": "@jupyter-widgets/base",
            "_view_module_version": "1.2.0",
            "_view_name": "LayoutView",
            "align_content": null,
            "align_items": null,
            "align_self": null,
            "border": null,
            "bottom": null,
            "display": null,
            "flex": null,
            "flex_flow": null,
            "grid_area": null,
            "grid_auto_columns": null,
            "grid_auto_flow": null,
            "grid_auto_rows": null,
            "grid_column": null,
            "grid_gap": null,
            "grid_row": null,
            "grid_template_areas": null,
            "grid_template_columns": null,
            "grid_template_rows": null,
            "height": null,
            "justify_content": null,
            "justify_items": null,
            "left": null,
            "margin": null,
            "max_height": null,
            "max_width": null,
            "min_height": null,
            "min_width": null,
            "object_fit": null,
            "object_position": null,
            "order": null,
            "overflow": null,
            "overflow_x": null,
            "overflow_y": null,
            "padding": null,
            "right": null,
            "top": null,
            "visibility": null,
            "width": null
          }
        },
        "da6aef7223d8476b9265c4547cfd12e7": {
          "model_module": "@jupyter-widgets/controls",
          "model_name": "ProgressStyleModel",
          "model_module_version": "1.5.0",
          "state": {
            "_model_module": "@jupyter-widgets/controls",
            "_model_module_version": "1.5.0",
            "_model_name": "ProgressStyleModel",
            "_view_count": null,
            "_view_module": "@jupyter-widgets/base",
            "_view_module_version": "1.2.0",
            "_view_name": "StyleView",
            "bar_color": null,
            "description_width": ""
          }
        },
        "c213447f23434b2eb477fb056720e017": {
          "model_module": "@jupyter-widgets/base",
          "model_name": "LayoutModel",
          "model_module_version": "1.2.0",
          "state": {
            "_model_module": "@jupyter-widgets/base",
            "_model_module_version": "1.2.0",
            "_model_name": "LayoutModel",
            "_view_count": null,
            "_view_module": "@jupyter-widgets/base",
            "_view_module_version": "1.2.0",
            "_view_name": "LayoutView",
            "align_content": null,
            "align_items": null,
            "align_self": null,
            "border": null,
            "bottom": null,
            "display": null,
            "flex": null,
            "flex_flow": null,
            "grid_area": null,
            "grid_auto_columns": null,
            "grid_auto_flow": null,
            "grid_auto_rows": null,
            "grid_column": null,
            "grid_gap": null,
            "grid_row": null,
            "grid_template_areas": null,
            "grid_template_columns": null,
            "grid_template_rows": null,
            "height": null,
            "justify_content": null,
            "justify_items": null,
            "left": null,
            "margin": null,
            "max_height": null,
            "max_width": null,
            "min_height": null,
            "min_width": null,
            "object_fit": null,
            "object_position": null,
            "order": null,
            "overflow": null,
            "overflow_x": null,
            "overflow_y": null,
            "padding": null,
            "right": null,
            "top": null,
            "visibility": null,
            "width": null
          }
        },
        "eebbae247ebd4a4881a58f0d2cbdd125": {
          "model_module": "@jupyter-widgets/controls",
          "model_name": "DescriptionStyleModel",
          "model_module_version": "1.5.0",
          "state": {
            "_model_module": "@jupyter-widgets/controls",
            "_model_module_version": "1.5.0",
            "_model_name": "DescriptionStyleModel",
            "_view_count": null,
            "_view_module": "@jupyter-widgets/base",
            "_view_module_version": "1.2.0",
            "_view_name": "StyleView",
            "description_width": ""
          }
        },
        "99b4b13206ed4c33b5476f9609868dbc": {
          "model_module": "@jupyter-widgets/controls",
          "model_name": "HBoxModel",
          "model_module_version": "1.5.0",
          "state": {
            "_dom_classes": [],
            "_model_module": "@jupyter-widgets/controls",
            "_model_module_version": "1.5.0",
            "_model_name": "HBoxModel",
            "_view_count": null,
            "_view_module": "@jupyter-widgets/controls",
            "_view_module_version": "1.5.0",
            "_view_name": "HBoxView",
            "box_style": "",
            "children": [
              "IPY_MODEL_4cd66a3377e74fce879b332759bb5222",
              "IPY_MODEL_4af2a34d2686447ab8895cd8fe70b675",
              "IPY_MODEL_f8dc7db48cae4d0f938be69a78d70acd"
            ],
            "layout": "IPY_MODEL_e5dea692ad1b499f8a10572900bb5674"
          }
        },
        "4cd66a3377e74fce879b332759bb5222": {
          "model_module": "@jupyter-widgets/controls",
          "model_name": "HTMLModel",
          "model_module_version": "1.5.0",
          "state": {
            "_dom_classes": [],
            "_model_module": "@jupyter-widgets/controls",
            "_model_module_version": "1.5.0",
            "_model_name": "HTMLModel",
            "_view_count": null,
            "_view_module": "@jupyter-widgets/controls",
            "_view_module_version": "1.5.0",
            "_view_name": "HTMLView",
            "description": "",
            "description_tooltip": null,
            "layout": "IPY_MODEL_90b8001bffd946929f576baac5fceac9",
            "placeholder": "​",
            "style": "IPY_MODEL_1d04c8431b484edea8f9e77c164b8561",
            "value": "Map: 100%"
          }
        },
        "4af2a34d2686447ab8895cd8fe70b675": {
          "model_module": "@jupyter-widgets/controls",
          "model_name": "FloatProgressModel",
          "model_module_version": "1.5.0",
          "state": {
            "_dom_classes": [],
            "_model_module": "@jupyter-widgets/controls",
            "_model_module_version": "1.5.0",
            "_model_name": "FloatProgressModel",
            "_view_count": null,
            "_view_module": "@jupyter-widgets/controls",
            "_view_module_version": "1.5.0",
            "_view_name": "ProgressView",
            "bar_style": "success",
            "description": "",
            "description_tooltip": null,
            "layout": "IPY_MODEL_79c1d259fb9349bebdf831d5cc6f3714",
            "max": 501,
            "min": 0,
            "orientation": "horizontal",
            "style": "IPY_MODEL_7745f92766054ecda90798dd6bfd919d",
            "value": 501
          }
        },
        "f8dc7db48cae4d0f938be69a78d70acd": {
          "model_module": "@jupyter-widgets/controls",
          "model_name": "HTMLModel",
          "model_module_version": "1.5.0",
          "state": {
            "_dom_classes": [],
            "_model_module": "@jupyter-widgets/controls",
            "_model_module_version": "1.5.0",
            "_model_name": "HTMLModel",
            "_view_count": null,
            "_view_module": "@jupyter-widgets/controls",
            "_view_module_version": "1.5.0",
            "_view_name": "HTMLView",
            "description": "",
            "description_tooltip": null,
            "layout": "IPY_MODEL_b9ab595f6dad4881a0967a14c5214f86",
            "placeholder": "​",
            "style": "IPY_MODEL_cecab05ac9234cacbf9f0e80ec6a93a9",
            "value": " 501/501 [00:02&lt;00:00, 228.53 examples/s]"
          }
        },
        "e5dea692ad1b499f8a10572900bb5674": {
          "model_module": "@jupyter-widgets/base",
          "model_name": "LayoutModel",
          "model_module_version": "1.2.0",
          "state": {
            "_model_module": "@jupyter-widgets/base",
            "_model_module_version": "1.2.0",
            "_model_name": "LayoutModel",
            "_view_count": null,
            "_view_module": "@jupyter-widgets/base",
            "_view_module_version": "1.2.0",
            "_view_name": "LayoutView",
            "align_content": null,
            "align_items": null,
            "align_self": null,
            "border": null,
            "bottom": null,
            "display": null,
            "flex": null,
            "flex_flow": null,
            "grid_area": null,
            "grid_auto_columns": null,
            "grid_auto_flow": null,
            "grid_auto_rows": null,
            "grid_column": null,
            "grid_gap": null,
            "grid_row": null,
            "grid_template_areas": null,
            "grid_template_columns": null,
            "grid_template_rows": null,
            "height": null,
            "justify_content": null,
            "justify_items": null,
            "left": null,
            "margin": null,
            "max_height": null,
            "max_width": null,
            "min_height": null,
            "min_width": null,
            "object_fit": null,
            "object_position": null,
            "order": null,
            "overflow": null,
            "overflow_x": null,
            "overflow_y": null,
            "padding": null,
            "right": null,
            "top": null,
            "visibility": null,
            "width": null
          }
        },
        "90b8001bffd946929f576baac5fceac9": {
          "model_module": "@jupyter-widgets/base",
          "model_name": "LayoutModel",
          "model_module_version": "1.2.0",
          "state": {
            "_model_module": "@jupyter-widgets/base",
            "_model_module_version": "1.2.0",
            "_model_name": "LayoutModel",
            "_view_count": null,
            "_view_module": "@jupyter-widgets/base",
            "_view_module_version": "1.2.0",
            "_view_name": "LayoutView",
            "align_content": null,
            "align_items": null,
            "align_self": null,
            "border": null,
            "bottom": null,
            "display": null,
            "flex": null,
            "flex_flow": null,
            "grid_area": null,
            "grid_auto_columns": null,
            "grid_auto_flow": null,
            "grid_auto_rows": null,
            "grid_column": null,
            "grid_gap": null,
            "grid_row": null,
            "grid_template_areas": null,
            "grid_template_columns": null,
            "grid_template_rows": null,
            "height": null,
            "justify_content": null,
            "justify_items": null,
            "left": null,
            "margin": null,
            "max_height": null,
            "max_width": null,
            "min_height": null,
            "min_width": null,
            "object_fit": null,
            "object_position": null,
            "order": null,
            "overflow": null,
            "overflow_x": null,
            "overflow_y": null,
            "padding": null,
            "right": null,
            "top": null,
            "visibility": null,
            "width": null
          }
        },
        "1d04c8431b484edea8f9e77c164b8561": {
          "model_module": "@jupyter-widgets/controls",
          "model_name": "DescriptionStyleModel",
          "model_module_version": "1.5.0",
          "state": {
            "_model_module": "@jupyter-widgets/controls",
            "_model_module_version": "1.5.0",
            "_model_name": "DescriptionStyleModel",
            "_view_count": null,
            "_view_module": "@jupyter-widgets/base",
            "_view_module_version": "1.2.0",
            "_view_name": "StyleView",
            "description_width": ""
          }
        },
        "79c1d259fb9349bebdf831d5cc6f3714": {
          "model_module": "@jupyter-widgets/base",
          "model_name": "LayoutModel",
          "model_module_version": "1.2.0",
          "state": {
            "_model_module": "@jupyter-widgets/base",
            "_model_module_version": "1.2.0",
            "_model_name": "LayoutModel",
            "_view_count": null,
            "_view_module": "@jupyter-widgets/base",
            "_view_module_version": "1.2.0",
            "_view_name": "LayoutView",
            "align_content": null,
            "align_items": null,
            "align_self": null,
            "border": null,
            "bottom": null,
            "display": null,
            "flex": null,
            "flex_flow": null,
            "grid_area": null,
            "grid_auto_columns": null,
            "grid_auto_flow": null,
            "grid_auto_rows": null,
            "grid_column": null,
            "grid_gap": null,
            "grid_row": null,
            "grid_template_areas": null,
            "grid_template_columns": null,
            "grid_template_rows": null,
            "height": null,
            "justify_content": null,
            "justify_items": null,
            "left": null,
            "margin": null,
            "max_height": null,
            "max_width": null,
            "min_height": null,
            "min_width": null,
            "object_fit": null,
            "object_position": null,
            "order": null,
            "overflow": null,
            "overflow_x": null,
            "overflow_y": null,
            "padding": null,
            "right": null,
            "top": null,
            "visibility": null,
            "width": null
          }
        },
        "7745f92766054ecda90798dd6bfd919d": {
          "model_module": "@jupyter-widgets/controls",
          "model_name": "ProgressStyleModel",
          "model_module_version": "1.5.0",
          "state": {
            "_model_module": "@jupyter-widgets/controls",
            "_model_module_version": "1.5.0",
            "_model_name": "ProgressStyleModel",
            "_view_count": null,
            "_view_module": "@jupyter-widgets/base",
            "_view_module_version": "1.2.0",
            "_view_name": "StyleView",
            "bar_color": null,
            "description_width": ""
          }
        },
        "b9ab595f6dad4881a0967a14c5214f86": {
          "model_module": "@jupyter-widgets/base",
          "model_name": "LayoutModel",
          "model_module_version": "1.2.0",
          "state": {
            "_model_module": "@jupyter-widgets/base",
            "_model_module_version": "1.2.0",
            "_model_name": "LayoutModel",
            "_view_count": null,
            "_view_module": "@jupyter-widgets/base",
            "_view_module_version": "1.2.0",
            "_view_name": "LayoutView",
            "align_content": null,
            "align_items": null,
            "align_self": null,
            "border": null,
            "bottom": null,
            "display": null,
            "flex": null,
            "flex_flow": null,
            "grid_area": null,
            "grid_auto_columns": null,
            "grid_auto_flow": null,
            "grid_auto_rows": null,
            "grid_column": null,
            "grid_gap": null,
            "grid_row": null,
            "grid_template_areas": null,
            "grid_template_columns": null,
            "grid_template_rows": null,
            "height": null,
            "justify_content": null,
            "justify_items": null,
            "left": null,
            "margin": null,
            "max_height": null,
            "max_width": null,
            "min_height": null,
            "min_width": null,
            "object_fit": null,
            "object_position": null,
            "order": null,
            "overflow": null,
            "overflow_x": null,
            "overflow_y": null,
            "padding": null,
            "right": null,
            "top": null,
            "visibility": null,
            "width": null
          }
        },
        "cecab05ac9234cacbf9f0e80ec6a93a9": {
          "model_module": "@jupyter-widgets/controls",
          "model_name": "DescriptionStyleModel",
          "model_module_version": "1.5.0",
          "state": {
            "_model_module": "@jupyter-widgets/controls",
            "_model_module_version": "1.5.0",
            "_model_name": "DescriptionStyleModel",
            "_view_count": null,
            "_view_module": "@jupyter-widgets/base",
            "_view_module_version": "1.2.0",
            "_view_name": "StyleView",
            "description_width": ""
          }
        },
        "f9c8ce0ee286422ba0b79a1fab990c66": {
          "model_module": "@jupyter-widgets/controls",
          "model_name": "HBoxModel",
          "model_module_version": "1.5.0",
          "state": {
            "_dom_classes": [],
            "_model_module": "@jupyter-widgets/controls",
            "_model_module_version": "1.5.0",
            "_model_name": "HBoxModel",
            "_view_count": null,
            "_view_module": "@jupyter-widgets/controls",
            "_view_module_version": "1.5.0",
            "_view_name": "HBoxView",
            "box_style": "",
            "children": [
              "IPY_MODEL_7c814bfddde34182853dfdb8428c95d1",
              "IPY_MODEL_e3823fc5b82e4ede8a593a7cdc89f74e",
              "IPY_MODEL_fb813973fd50490381cb055bb07a5c14"
            ],
            "layout": "IPY_MODEL_583b47e9db4243e6a906e629ab5d17fa"
          }
        },
        "7c814bfddde34182853dfdb8428c95d1": {
          "model_module": "@jupyter-widgets/controls",
          "model_name": "HTMLModel",
          "model_module_version": "1.5.0",
          "state": {
            "_dom_classes": [],
            "_model_module": "@jupyter-widgets/controls",
            "_model_module_version": "1.5.0",
            "_model_name": "HTMLModel",
            "_view_count": null,
            "_view_module": "@jupyter-widgets/controls",
            "_view_module_version": "1.5.0",
            "_view_name": "HTMLView",
            "description": "",
            "description_tooltip": null,
            "layout": "IPY_MODEL_2207fb1dcde4435d92e3efce1dc5ff5d",
            "placeholder": "​",
            "style": "IPY_MODEL_44f395106da64852b674d5e44fb1db4e",
            "value": "Map: 100%"
          }
        },
        "e3823fc5b82e4ede8a593a7cdc89f74e": {
          "model_module": "@jupyter-widgets/controls",
          "model_name": "FloatProgressModel",
          "model_module_version": "1.5.0",
          "state": {
            "_dom_classes": [],
            "_model_module": "@jupyter-widgets/controls",
            "_model_module_version": "1.5.0",
            "_model_name": "FloatProgressModel",
            "_view_count": null,
            "_view_module": "@jupyter-widgets/controls",
            "_view_module_version": "1.5.0",
            "_view_name": "ProgressView",
            "bar_style": "success",
            "description": "",
            "description_tooltip": null,
            "layout": "IPY_MODEL_081c0ada778445e39ad8b9dd3df44f4a",
            "max": 500,
            "min": 0,
            "orientation": "horizontal",
            "style": "IPY_MODEL_dbe41b617ed646f8982a047bff2dcf71",
            "value": 500
          }
        },
        "fb813973fd50490381cb055bb07a5c14": {
          "model_module": "@jupyter-widgets/controls",
          "model_name": "HTMLModel",
          "model_module_version": "1.5.0",
          "state": {
            "_dom_classes": [],
            "_model_module": "@jupyter-widgets/controls",
            "_model_module_version": "1.5.0",
            "_model_name": "HTMLModel",
            "_view_count": null,
            "_view_module": "@jupyter-widgets/controls",
            "_view_module_version": "1.5.0",
            "_view_name": "HTMLView",
            "description": "",
            "description_tooltip": null,
            "layout": "IPY_MODEL_21f966ed2d8344e78df0c0505ac5f623",
            "placeholder": "​",
            "style": "IPY_MODEL_0e092c533f48406bbb6f15d4d2869ca9",
            "value": " 500/500 [00:02&lt;00:00, 232.60 examples/s]"
          }
        },
        "583b47e9db4243e6a906e629ab5d17fa": {
          "model_module": "@jupyter-widgets/base",
          "model_name": "LayoutModel",
          "model_module_version": "1.2.0",
          "state": {
            "_model_module": "@jupyter-widgets/base",
            "_model_module_version": "1.2.0",
            "_model_name": "LayoutModel",
            "_view_count": null,
            "_view_module": "@jupyter-widgets/base",
            "_view_module_version": "1.2.0",
            "_view_name": "LayoutView",
            "align_content": null,
            "align_items": null,
            "align_self": null,
            "border": null,
            "bottom": null,
            "display": null,
            "flex": null,
            "flex_flow": null,
            "grid_area": null,
            "grid_auto_columns": null,
            "grid_auto_flow": null,
            "grid_auto_rows": null,
            "grid_column": null,
            "grid_gap": null,
            "grid_row": null,
            "grid_template_areas": null,
            "grid_template_columns": null,
            "grid_template_rows": null,
            "height": null,
            "justify_content": null,
            "justify_items": null,
            "left": null,
            "margin": null,
            "max_height": null,
            "max_width": null,
            "min_height": null,
            "min_width": null,
            "object_fit": null,
            "object_position": null,
            "order": null,
            "overflow": null,
            "overflow_x": null,
            "overflow_y": null,
            "padding": null,
            "right": null,
            "top": null,
            "visibility": null,
            "width": null
          }
        },
        "2207fb1dcde4435d92e3efce1dc5ff5d": {
          "model_module": "@jupyter-widgets/base",
          "model_name": "LayoutModel",
          "model_module_version": "1.2.0",
          "state": {
            "_model_module": "@jupyter-widgets/base",
            "_model_module_version": "1.2.0",
            "_model_name": "LayoutModel",
            "_view_count": null,
            "_view_module": "@jupyter-widgets/base",
            "_view_module_version": "1.2.0",
            "_view_name": "LayoutView",
            "align_content": null,
            "align_items": null,
            "align_self": null,
            "border": null,
            "bottom": null,
            "display": null,
            "flex": null,
            "flex_flow": null,
            "grid_area": null,
            "grid_auto_columns": null,
            "grid_auto_flow": null,
            "grid_auto_rows": null,
            "grid_column": null,
            "grid_gap": null,
            "grid_row": null,
            "grid_template_areas": null,
            "grid_template_columns": null,
            "grid_template_rows": null,
            "height": null,
            "justify_content": null,
            "justify_items": null,
            "left": null,
            "margin": null,
            "max_height": null,
            "max_width": null,
            "min_height": null,
            "min_width": null,
            "object_fit": null,
            "object_position": null,
            "order": null,
            "overflow": null,
            "overflow_x": null,
            "overflow_y": null,
            "padding": null,
            "right": null,
            "top": null,
            "visibility": null,
            "width": null
          }
        },
        "44f395106da64852b674d5e44fb1db4e": {
          "model_module": "@jupyter-widgets/controls",
          "model_name": "DescriptionStyleModel",
          "model_module_version": "1.5.0",
          "state": {
            "_model_module": "@jupyter-widgets/controls",
            "_model_module_version": "1.5.0",
            "_model_name": "DescriptionStyleModel",
            "_view_count": null,
            "_view_module": "@jupyter-widgets/base",
            "_view_module_version": "1.2.0",
            "_view_name": "StyleView",
            "description_width": ""
          }
        },
        "081c0ada778445e39ad8b9dd3df44f4a": {
          "model_module": "@jupyter-widgets/base",
          "model_name": "LayoutModel",
          "model_module_version": "1.2.0",
          "state": {
            "_model_module": "@jupyter-widgets/base",
            "_model_module_version": "1.2.0",
            "_model_name": "LayoutModel",
            "_view_count": null,
            "_view_module": "@jupyter-widgets/base",
            "_view_module_version": "1.2.0",
            "_view_name": "LayoutView",
            "align_content": null,
            "align_items": null,
            "align_self": null,
            "border": null,
            "bottom": null,
            "display": null,
            "flex": null,
            "flex_flow": null,
            "grid_area": null,
            "grid_auto_columns": null,
            "grid_auto_flow": null,
            "grid_auto_rows": null,
            "grid_column": null,
            "grid_gap": null,
            "grid_row": null,
            "grid_template_areas": null,
            "grid_template_columns": null,
            "grid_template_rows": null,
            "height": null,
            "justify_content": null,
            "justify_items": null,
            "left": null,
            "margin": null,
            "max_height": null,
            "max_width": null,
            "min_height": null,
            "min_width": null,
            "object_fit": null,
            "object_position": null,
            "order": null,
            "overflow": null,
            "overflow_x": null,
            "overflow_y": null,
            "padding": null,
            "right": null,
            "top": null,
            "visibility": null,
            "width": null
          }
        },
        "dbe41b617ed646f8982a047bff2dcf71": {
          "model_module": "@jupyter-widgets/controls",
          "model_name": "ProgressStyleModel",
          "model_module_version": "1.5.0",
          "state": {
            "_model_module": "@jupyter-widgets/controls",
            "_model_module_version": "1.5.0",
            "_model_name": "ProgressStyleModel",
            "_view_count": null,
            "_view_module": "@jupyter-widgets/base",
            "_view_module_version": "1.2.0",
            "_view_name": "StyleView",
            "bar_color": null,
            "description_width": ""
          }
        },
        "21f966ed2d8344e78df0c0505ac5f623": {
          "model_module": "@jupyter-widgets/base",
          "model_name": "LayoutModel",
          "model_module_version": "1.2.0",
          "state": {
            "_model_module": "@jupyter-widgets/base",
            "_model_module_version": "1.2.0",
            "_model_name": "LayoutModel",
            "_view_count": null,
            "_view_module": "@jupyter-widgets/base",
            "_view_module_version": "1.2.0",
            "_view_name": "LayoutView",
            "align_content": null,
            "align_items": null,
            "align_self": null,
            "border": null,
            "bottom": null,
            "display": null,
            "flex": null,
            "flex_flow": null,
            "grid_area": null,
            "grid_auto_columns": null,
            "grid_auto_flow": null,
            "grid_auto_rows": null,
            "grid_column": null,
            "grid_gap": null,
            "grid_row": null,
            "grid_template_areas": null,
            "grid_template_columns": null,
            "grid_template_rows": null,
            "height": null,
            "justify_content": null,
            "justify_items": null,
            "left": null,
            "margin": null,
            "max_height": null,
            "max_width": null,
            "min_height": null,
            "min_width": null,
            "object_fit": null,
            "object_position": null,
            "order": null,
            "overflow": null,
            "overflow_x": null,
            "overflow_y": null,
            "padding": null,
            "right": null,
            "top": null,
            "visibility": null,
            "width": null
          }
        },
        "0e092c533f48406bbb6f15d4d2869ca9": {
          "model_module": "@jupyter-widgets/controls",
          "model_name": "DescriptionStyleModel",
          "model_module_version": "1.5.0",
          "state": {
            "_model_module": "@jupyter-widgets/controls",
            "_model_module_version": "1.5.0",
            "_model_name": "DescriptionStyleModel",
            "_view_count": null,
            "_view_module": "@jupyter-widgets/base",
            "_view_module_version": "1.2.0",
            "_view_name": "StyleView",
            "description_width": ""
          }
        }
      }
    }
  },
  "cells": [
    {
      "cell_type": "markdown",
      "source": [
        "# Environment"
      ],
      "metadata": {
        "id": "EhaH4MaqS_Hv"
      }
    },
    {
      "cell_type": "code",
      "source": [
        "!pip install -r /content/drive/MyDrive/text_mining/multilingual-summarization-20250312/requirements.txt"
      ],
      "metadata": {
        "colab": {
          "base_uri": "https://localhost:8080/"
        },
        "collapsed": true,
        "id": "GBA1xF0hTFIy",
        "outputId": "14c63221-ff5a-4616-e4cf-6c5f24e68d26"
      },
      "execution_count": null,
      "outputs": [
        {
          "output_type": "stream",
          "name": "stdout",
          "text": [
            "Requirement already satisfied: torch in /usr/local/lib/python3.11/dist-packages (from -r /content/drive/MyDrive/text_mining/multilingual-summarization-20250312/requirements.txt (line 1)) (2.5.1+cu124)\n",
            "Requirement already satisfied: transformers in /usr/local/lib/python3.11/dist-packages (from -r /content/drive/MyDrive/text_mining/multilingual-summarization-20250312/requirements.txt (line 2)) (4.48.3)\n",
            "Requirement already satisfied: datasets in /usr/local/lib/python3.11/dist-packages (from -r /content/drive/MyDrive/text_mining/multilingual-summarization-20250312/requirements.txt (line 3)) (3.3.2)\n",
            "Requirement already satisfied: numpy in /usr/local/lib/python3.11/dist-packages (from -r /content/drive/MyDrive/text_mining/multilingual-summarization-20250312/requirements.txt (line 4)) (1.26.4)\n",
            "Requirement already satisfied: bitsandbytes in /usr/local/lib/python3.11/dist-packages (from -r /content/drive/MyDrive/text_mining/multilingual-summarization-20250312/requirements.txt (line 5)) (0.45.3)\n",
            "Requirement already satisfied: accelerate in /usr/local/lib/python3.11/dist-packages (from -r /content/drive/MyDrive/text_mining/multilingual-summarization-20250312/requirements.txt (line 6)) (1.3.0)\n",
            "Requirement already satisfied: wandb in /usr/local/lib/python3.11/dist-packages (from -r /content/drive/MyDrive/text_mining/multilingual-summarization-20250312/requirements.txt (line 7)) (0.19.8)\n",
            "Requirement already satisfied: dotenv in /usr/local/lib/python3.11/dist-packages (from -r /content/drive/MyDrive/text_mining/multilingual-summarization-20250312/requirements.txt (line 8)) (0.9.9)\n",
            "Requirement already satisfied: ipykernel in /usr/local/lib/python3.11/dist-packages (from -r /content/drive/MyDrive/text_mining/multilingual-summarization-20250312/requirements.txt (line 9)) (6.17.1)\n",
            "Requirement already satisfied: jupyter in /usr/local/lib/python3.11/dist-packages (from -r /content/drive/MyDrive/text_mining/multilingual-summarization-20250312/requirements.txt (line 10)) (1.1.1)\n",
            "Requirement already satisfied: ipywidgets in /usr/local/lib/python3.11/dist-packages (from -r /content/drive/MyDrive/text_mining/multilingual-summarization-20250312/requirements.txt (line 11)) (7.7.1)\n",
            "Requirement already satisfied: tiktoken in /usr/local/lib/python3.11/dist-packages (from -r /content/drive/MyDrive/text_mining/multilingual-summarization-20250312/requirements.txt (line 12)) (0.9.0)\n",
            "Requirement already satisfied: blobfile in /usr/local/lib/python3.11/dist-packages (from -r /content/drive/MyDrive/text_mining/multilingual-summarization-20250312/requirements.txt (line 13)) (3.0.0)\n",
            "Requirement already satisfied: rich in /usr/local/lib/python3.11/dist-packages (from -r /content/drive/MyDrive/text_mining/multilingual-summarization-20250312/requirements.txt (line 14)) (13.9.4)\n",
            "Requirement already satisfied: nltk in /usr/local/lib/python3.11/dist-packages (from -r /content/drive/MyDrive/text_mining/multilingual-summarization-20250312/requirements.txt (line 15)) (3.9.1)\n",
            "Requirement already satisfied: weave in /usr/local/lib/python3.11/dist-packages (from -r /content/drive/MyDrive/text_mining/multilingual-summarization-20250312/requirements.txt (line 16)) (0.51.36)\n",
            "Requirement already satisfied: peft in /usr/local/lib/python3.11/dist-packages (from -r /content/drive/MyDrive/text_mining/multilingual-summarization-20250312/requirements.txt (line 18)) (0.14.0)\n",
            "Requirement already satisfied: evaluate in /usr/local/lib/python3.11/dist-packages (from -r /content/drive/MyDrive/text_mining/multilingual-summarization-20250312/requirements.txt (line 19)) (0.4.3)\n",
            "Requirement already satisfied: rouge in /usr/local/lib/python3.11/dist-packages (from -r /content/drive/MyDrive/text_mining/multilingual-summarization-20250312/requirements.txt (line 20)) (1.0.1)\n",
            "Requirement already satisfied: filelock in /usr/local/lib/python3.11/dist-packages (from torch->-r /content/drive/MyDrive/text_mining/multilingual-summarization-20250312/requirements.txt (line 1)) (3.17.0)\n",
            "Requirement already satisfied: typing-extensions>=4.8.0 in /usr/local/lib/python3.11/dist-packages (from torch->-r /content/drive/MyDrive/text_mining/multilingual-summarization-20250312/requirements.txt (line 1)) (4.12.2)\n",
            "Requirement already satisfied: networkx in /usr/local/lib/python3.11/dist-packages (from torch->-r /content/drive/MyDrive/text_mining/multilingual-summarization-20250312/requirements.txt (line 1)) (3.4.2)\n",
            "Requirement already satisfied: jinja2 in /usr/local/lib/python3.11/dist-packages (from torch->-r /content/drive/MyDrive/text_mining/multilingual-summarization-20250312/requirements.txt (line 1)) (3.1.6)\n",
            "Requirement already satisfied: fsspec in /usr/local/lib/python3.11/dist-packages (from torch->-r /content/drive/MyDrive/text_mining/multilingual-summarization-20250312/requirements.txt (line 1)) (2024.10.0)\n",
            "Requirement already satisfied: nvidia-cuda-nvrtc-cu12==12.4.127 in /usr/local/lib/python3.11/dist-packages (from torch->-r /content/drive/MyDrive/text_mining/multilingual-summarization-20250312/requirements.txt (line 1)) (12.4.127)\n",
            "Requirement already satisfied: nvidia-cuda-runtime-cu12==12.4.127 in /usr/local/lib/python3.11/dist-packages (from torch->-r /content/drive/MyDrive/text_mining/multilingual-summarization-20250312/requirements.txt (line 1)) (12.4.127)\n",
            "Requirement already satisfied: nvidia-cuda-cupti-cu12==12.4.127 in /usr/local/lib/python3.11/dist-packages (from torch->-r /content/drive/MyDrive/text_mining/multilingual-summarization-20250312/requirements.txt (line 1)) (12.4.127)\n",
            "Requirement already satisfied: nvidia-cudnn-cu12==9.1.0.70 in /usr/local/lib/python3.11/dist-packages (from torch->-r /content/drive/MyDrive/text_mining/multilingual-summarization-20250312/requirements.txt (line 1)) (9.1.0.70)\n",
            "Requirement already satisfied: nvidia-cublas-cu12==12.4.5.8 in /usr/local/lib/python3.11/dist-packages (from torch->-r /content/drive/MyDrive/text_mining/multilingual-summarization-20250312/requirements.txt (line 1)) (12.4.5.8)\n",
            "Requirement already satisfied: nvidia-cufft-cu12==11.2.1.3 in /usr/local/lib/python3.11/dist-packages (from torch->-r /content/drive/MyDrive/text_mining/multilingual-summarization-20250312/requirements.txt (line 1)) (11.2.1.3)\n",
            "Requirement already satisfied: nvidia-curand-cu12==10.3.5.147 in /usr/local/lib/python3.11/dist-packages (from torch->-r /content/drive/MyDrive/text_mining/multilingual-summarization-20250312/requirements.txt (line 1)) (10.3.5.147)\n",
            "Requirement already satisfied: nvidia-cusolver-cu12==11.6.1.9 in /usr/local/lib/python3.11/dist-packages (from torch->-r /content/drive/MyDrive/text_mining/multilingual-summarization-20250312/requirements.txt (line 1)) (11.6.1.9)\n",
            "Requirement already satisfied: nvidia-cusparse-cu12==12.3.1.170 in /usr/local/lib/python3.11/dist-packages (from torch->-r /content/drive/MyDrive/text_mining/multilingual-summarization-20250312/requirements.txt (line 1)) (12.3.1.170)\n",
            "Requirement already satisfied: nvidia-nccl-cu12==2.21.5 in /usr/local/lib/python3.11/dist-packages (from torch->-r /content/drive/MyDrive/text_mining/multilingual-summarization-20250312/requirements.txt (line 1)) (2.21.5)\n",
            "Requirement already satisfied: nvidia-nvtx-cu12==12.4.127 in /usr/local/lib/python3.11/dist-packages (from torch->-r /content/drive/MyDrive/text_mining/multilingual-summarization-20250312/requirements.txt (line 1)) (12.4.127)\n",
            "Requirement already satisfied: nvidia-nvjitlink-cu12==12.4.127 in /usr/local/lib/python3.11/dist-packages (from torch->-r /content/drive/MyDrive/text_mining/multilingual-summarization-20250312/requirements.txt (line 1)) (12.4.127)\n",
            "Requirement already satisfied: triton==3.1.0 in /usr/local/lib/python3.11/dist-packages (from torch->-r /content/drive/MyDrive/text_mining/multilingual-summarization-20250312/requirements.txt (line 1)) (3.1.0)\n",
            "Requirement already satisfied: sympy==1.13.1 in /usr/local/lib/python3.11/dist-packages (from torch->-r /content/drive/MyDrive/text_mining/multilingual-summarization-20250312/requirements.txt (line 1)) (1.13.1)\n",
            "Requirement already satisfied: mpmath<1.4,>=1.1.0 in /usr/local/lib/python3.11/dist-packages (from sympy==1.13.1->torch->-r /content/drive/MyDrive/text_mining/multilingual-summarization-20250312/requirements.txt (line 1)) (1.3.0)\n",
            "Requirement already satisfied: huggingface-hub<1.0,>=0.24.0 in /usr/local/lib/python3.11/dist-packages (from transformers->-r /content/drive/MyDrive/text_mining/multilingual-summarization-20250312/requirements.txt (line 2)) (0.28.1)\n",
            "Requirement already satisfied: packaging>=20.0 in /usr/local/lib/python3.11/dist-packages (from transformers->-r /content/drive/MyDrive/text_mining/multilingual-summarization-20250312/requirements.txt (line 2)) (24.2)\n",
            "Requirement already satisfied: pyyaml>=5.1 in /usr/local/lib/python3.11/dist-packages (from transformers->-r /content/drive/MyDrive/text_mining/multilingual-summarization-20250312/requirements.txt (line 2)) (6.0.2)\n",
            "Requirement already satisfied: regex!=2019.12.17 in /usr/local/lib/python3.11/dist-packages (from transformers->-r /content/drive/MyDrive/text_mining/multilingual-summarization-20250312/requirements.txt (line 2)) (2024.11.6)\n",
            "Requirement already satisfied: requests in /usr/local/lib/python3.11/dist-packages (from transformers->-r /content/drive/MyDrive/text_mining/multilingual-summarization-20250312/requirements.txt (line 2)) (2.32.3)\n",
            "Requirement already satisfied: tokenizers<0.22,>=0.21 in /usr/local/lib/python3.11/dist-packages (from transformers->-r /content/drive/MyDrive/text_mining/multilingual-summarization-20250312/requirements.txt (line 2)) (0.21.0)\n",
            "Requirement already satisfied: safetensors>=0.4.1 in /usr/local/lib/python3.11/dist-packages (from transformers->-r /content/drive/MyDrive/text_mining/multilingual-summarization-20250312/requirements.txt (line 2)) (0.5.3)\n",
            "Requirement already satisfied: tqdm>=4.27 in /usr/local/lib/python3.11/dist-packages (from transformers->-r /content/drive/MyDrive/text_mining/multilingual-summarization-20250312/requirements.txt (line 2)) (4.67.1)\n",
            "Requirement already satisfied: pyarrow>=15.0.0 in /usr/local/lib/python3.11/dist-packages (from datasets->-r /content/drive/MyDrive/text_mining/multilingual-summarization-20250312/requirements.txt (line 3)) (18.1.0)\n",
            "Requirement already satisfied: dill<0.3.9,>=0.3.0 in /usr/local/lib/python3.11/dist-packages (from datasets->-r /content/drive/MyDrive/text_mining/multilingual-summarization-20250312/requirements.txt (line 3)) (0.3.8)\n",
            "Requirement already satisfied: pandas in /usr/local/lib/python3.11/dist-packages (from datasets->-r /content/drive/MyDrive/text_mining/multilingual-summarization-20250312/requirements.txt (line 3)) (2.2.2)\n",
            "Requirement already satisfied: xxhash in /usr/local/lib/python3.11/dist-packages (from datasets->-r /content/drive/MyDrive/text_mining/multilingual-summarization-20250312/requirements.txt (line 3)) (3.5.0)\n",
            "Requirement already satisfied: multiprocess<0.70.17 in /usr/local/lib/python3.11/dist-packages (from datasets->-r /content/drive/MyDrive/text_mining/multilingual-summarization-20250312/requirements.txt (line 3)) (0.70.16)\n",
            "Requirement already satisfied: aiohttp in /usr/local/lib/python3.11/dist-packages (from datasets->-r /content/drive/MyDrive/text_mining/multilingual-summarization-20250312/requirements.txt (line 3)) (3.11.13)\n",
            "Requirement already satisfied: psutil in /usr/local/lib/python3.11/dist-packages (from accelerate->-r /content/drive/MyDrive/text_mining/multilingual-summarization-20250312/requirements.txt (line 6)) (5.9.5)\n",
            "Requirement already satisfied: click!=8.0.0,>=7.1 in /usr/local/lib/python3.11/dist-packages (from wandb->-r /content/drive/MyDrive/text_mining/multilingual-summarization-20250312/requirements.txt (line 7)) (8.1.8)\n",
            "Requirement already satisfied: docker-pycreds>=0.4.0 in /usr/local/lib/python3.11/dist-packages (from wandb->-r /content/drive/MyDrive/text_mining/multilingual-summarization-20250312/requirements.txt (line 7)) (0.4.0)\n",
            "Requirement already satisfied: gitpython!=3.1.29,>=1.0.0 in /usr/local/lib/python3.11/dist-packages (from wandb->-r /content/drive/MyDrive/text_mining/multilingual-summarization-20250312/requirements.txt (line 7)) (3.1.44)\n",
            "Requirement already satisfied: platformdirs in /usr/local/lib/python3.11/dist-packages (from wandb->-r /content/drive/MyDrive/text_mining/multilingual-summarization-20250312/requirements.txt (line 7)) (4.3.6)\n",
            "Requirement already satisfied: protobuf!=4.21.0,!=5.28.0,<6,>=3.19.0 in /usr/local/lib/python3.11/dist-packages (from wandb->-r /content/drive/MyDrive/text_mining/multilingual-summarization-20250312/requirements.txt (line 7)) (4.25.6)\n",
            "Requirement already satisfied: pydantic<3,>=2.6 in /usr/local/lib/python3.11/dist-packages (from wandb->-r /content/drive/MyDrive/text_mining/multilingual-summarization-20250312/requirements.txt (line 7)) (2.10.6)\n",
            "Requirement already satisfied: sentry-sdk>=2.0.0 in /usr/local/lib/python3.11/dist-packages (from wandb->-r /content/drive/MyDrive/text_mining/multilingual-summarization-20250312/requirements.txt (line 7)) (2.22.0)\n",
            "Requirement already satisfied: setproctitle in /usr/local/lib/python3.11/dist-packages (from wandb->-r /content/drive/MyDrive/text_mining/multilingual-summarization-20250312/requirements.txt (line 7)) (1.3.5)\n",
            "Requirement already satisfied: setuptools in /usr/local/lib/python3.11/dist-packages (from wandb->-r /content/drive/MyDrive/text_mining/multilingual-summarization-20250312/requirements.txt (line 7)) (75.1.0)\n",
            "Requirement already satisfied: python-dotenv in /usr/local/lib/python3.11/dist-packages (from dotenv->-r /content/drive/MyDrive/text_mining/multilingual-summarization-20250312/requirements.txt (line 8)) (1.0.1)\n",
            "Requirement already satisfied: debugpy>=1.0 in /usr/local/lib/python3.11/dist-packages (from ipykernel->-r /content/drive/MyDrive/text_mining/multilingual-summarization-20250312/requirements.txt (line 9)) (1.8.0)\n",
            "Requirement already satisfied: ipython>=7.23.1 in /usr/local/lib/python3.11/dist-packages (from ipykernel->-r /content/drive/MyDrive/text_mining/multilingual-summarization-20250312/requirements.txt (line 9)) (7.34.0)\n",
            "Requirement already satisfied: jupyter-client>=6.1.12 in /usr/local/lib/python3.11/dist-packages (from ipykernel->-r /content/drive/MyDrive/text_mining/multilingual-summarization-20250312/requirements.txt (line 9)) (7.4.9)\n",
            "Requirement already satisfied: matplotlib-inline>=0.1 in /usr/local/lib/python3.11/dist-packages (from ipykernel->-r /content/drive/MyDrive/text_mining/multilingual-summarization-20250312/requirements.txt (line 9)) (0.1.7)\n",
            "Requirement already satisfied: nest-asyncio in /usr/local/lib/python3.11/dist-packages (from ipykernel->-r /content/drive/MyDrive/text_mining/multilingual-summarization-20250312/requirements.txt (line 9)) (1.6.0)\n",
            "Requirement already satisfied: pyzmq>=17 in /usr/local/lib/python3.11/dist-packages (from ipykernel->-r /content/drive/MyDrive/text_mining/multilingual-summarization-20250312/requirements.txt (line 9)) (24.0.1)\n",
            "Requirement already satisfied: tornado>=6.1 in /usr/local/lib/python3.11/dist-packages (from ipykernel->-r /content/drive/MyDrive/text_mining/multilingual-summarization-20250312/requirements.txt (line 9)) (6.4.2)\n",
            "Requirement already satisfied: traitlets>=5.1.0 in /usr/local/lib/python3.11/dist-packages (from ipykernel->-r /content/drive/MyDrive/text_mining/multilingual-summarization-20250312/requirements.txt (line 9)) (5.7.1)\n",
            "Requirement already satisfied: notebook in /usr/local/lib/python3.11/dist-packages (from jupyter->-r /content/drive/MyDrive/text_mining/multilingual-summarization-20250312/requirements.txt (line 10)) (6.5.5)\n",
            "Requirement already satisfied: jupyter-console in /usr/local/lib/python3.11/dist-packages (from jupyter->-r /content/drive/MyDrive/text_mining/multilingual-summarization-20250312/requirements.txt (line 10)) (6.1.0)\n",
            "Requirement already satisfied: nbconvert in /usr/local/lib/python3.11/dist-packages (from jupyter->-r /content/drive/MyDrive/text_mining/multilingual-summarization-20250312/requirements.txt (line 10)) (7.16.6)\n",
            "Requirement already satisfied: jupyterlab in /usr/local/lib/python3.11/dist-packages (from jupyter->-r /content/drive/MyDrive/text_mining/multilingual-summarization-20250312/requirements.txt (line 10)) (4.3.5)\n",
            "Requirement already satisfied: ipython-genutils~=0.2.0 in /usr/local/lib/python3.11/dist-packages (from ipywidgets->-r /content/drive/MyDrive/text_mining/multilingual-summarization-20250312/requirements.txt (line 11)) (0.2.0)\n",
            "Requirement already satisfied: widgetsnbextension~=3.6.0 in /usr/local/lib/python3.11/dist-packages (from ipywidgets->-r /content/drive/MyDrive/text_mining/multilingual-summarization-20250312/requirements.txt (line 11)) (3.6.10)\n",
            "Requirement already satisfied: jupyterlab-widgets>=1.0.0 in /usr/local/lib/python3.11/dist-packages (from ipywidgets->-r /content/drive/MyDrive/text_mining/multilingual-summarization-20250312/requirements.txt (line 11)) (3.0.13)\n",
            "Requirement already satisfied: pycryptodomex>=3.8 in /usr/local/lib/python3.11/dist-packages (from blobfile->-r /content/drive/MyDrive/text_mining/multilingual-summarization-20250312/requirements.txt (line 13)) (3.21.0)\n",
            "Requirement already satisfied: urllib3<3,>=1.25.3 in /usr/local/lib/python3.11/dist-packages (from blobfile->-r /content/drive/MyDrive/text_mining/multilingual-summarization-20250312/requirements.txt (line 13)) (2.3.0)\n",
            "Requirement already satisfied: lxml>=4.9 in /usr/local/lib/python3.11/dist-packages (from blobfile->-r /content/drive/MyDrive/text_mining/multilingual-summarization-20250312/requirements.txt (line 13)) (5.3.1)\n",
            "Requirement already satisfied: markdown-it-py>=2.2.0 in /usr/local/lib/python3.11/dist-packages (from rich->-r /content/drive/MyDrive/text_mining/multilingual-summarization-20250312/requirements.txt (line 14)) (3.0.0)\n",
            "Requirement already satisfied: pygments<3.0.0,>=2.13.0 in /usr/local/lib/python3.11/dist-packages (from rich->-r /content/drive/MyDrive/text_mining/multilingual-summarization-20250312/requirements.txt (line 14)) (2.18.0)\n",
            "Requirement already satisfied: joblib in /usr/local/lib/python3.11/dist-packages (from nltk->-r /content/drive/MyDrive/text_mining/multilingual-summarization-20250312/requirements.txt (line 15)) (1.4.2)\n",
            "Requirement already satisfied: diskcache==5.6.3 in /usr/local/lib/python3.11/dist-packages (from weave->-r /content/drive/MyDrive/text_mining/multilingual-summarization-20250312/requirements.txt (line 16)) (5.6.3)\n",
            "Requirement already satisfied: emoji>=2.12.1 in /usr/local/lib/python3.11/dist-packages (from weave->-r /content/drive/MyDrive/text_mining/multilingual-summarization-20250312/requirements.txt (line 16)) (2.14.1)\n",
            "Requirement already satisfied: gql[aiohttp,requests] in /usr/local/lib/python3.11/dist-packages (from weave->-r /content/drive/MyDrive/text_mining/multilingual-summarization-20250312/requirements.txt (line 16)) (3.5.2)\n",
            "Requirement already satisfied: jsonschema>=4.23.0 in /usr/local/lib/python3.11/dist-packages (from weave->-r /content/drive/MyDrive/text_mining/multilingual-summarization-20250312/requirements.txt (line 16)) (4.23.0)\n",
            "Requirement already satisfied: tenacity!=8.4.0,>=8.3.0 in /usr/local/lib/python3.11/dist-packages (from weave->-r /content/drive/MyDrive/text_mining/multilingual-summarization-20250312/requirements.txt (line 16)) (9.0.0)\n",
            "Requirement already satisfied: uuid-utils>=0.9.0 in /usr/local/lib/python3.11/dist-packages (from weave->-r /content/drive/MyDrive/text_mining/multilingual-summarization-20250312/requirements.txt (line 16)) (0.10.0)\n",
            "Requirement already satisfied: six in /usr/local/lib/python3.11/dist-packages (from rouge->-r /content/drive/MyDrive/text_mining/multilingual-summarization-20250312/requirements.txt (line 20)) (1.17.0)\n",
            "Requirement already satisfied: aiohappyeyeballs>=2.3.0 in /usr/local/lib/python3.11/dist-packages (from aiohttp->datasets->-r /content/drive/MyDrive/text_mining/multilingual-summarization-20250312/requirements.txt (line 3)) (2.5.0)\n",
            "Requirement already satisfied: aiosignal>=1.1.2 in /usr/local/lib/python3.11/dist-packages (from aiohttp->datasets->-r /content/drive/MyDrive/text_mining/multilingual-summarization-20250312/requirements.txt (line 3)) (1.3.2)\n",
            "Requirement already satisfied: attrs>=17.3.0 in /usr/local/lib/python3.11/dist-packages (from aiohttp->datasets->-r /content/drive/MyDrive/text_mining/multilingual-summarization-20250312/requirements.txt (line 3)) (25.1.0)\n",
            "Requirement already satisfied: frozenlist>=1.1.1 in /usr/local/lib/python3.11/dist-packages (from aiohttp->datasets->-r /content/drive/MyDrive/text_mining/multilingual-summarization-20250312/requirements.txt (line 3)) (1.5.0)\n",
            "Requirement already satisfied: multidict<7.0,>=4.5 in /usr/local/lib/python3.11/dist-packages (from aiohttp->datasets->-r /content/drive/MyDrive/text_mining/multilingual-summarization-20250312/requirements.txt (line 3)) (6.1.0)\n",
            "Requirement already satisfied: propcache>=0.2.0 in /usr/local/lib/python3.11/dist-packages (from aiohttp->datasets->-r /content/drive/MyDrive/text_mining/multilingual-summarization-20250312/requirements.txt (line 3)) (0.3.0)\n",
            "Requirement already satisfied: yarl<2.0,>=1.17.0 in /usr/local/lib/python3.11/dist-packages (from aiohttp->datasets->-r /content/drive/MyDrive/text_mining/multilingual-summarization-20250312/requirements.txt (line 3)) (1.18.3)\n",
            "Requirement already satisfied: gitdb<5,>=4.0.1 in /usr/local/lib/python3.11/dist-packages (from gitpython!=3.1.29,>=1.0.0->wandb->-r /content/drive/MyDrive/text_mining/multilingual-summarization-20250312/requirements.txt (line 7)) (4.0.12)\n",
            "Requirement already satisfied: jedi>=0.16 in /usr/local/lib/python3.11/dist-packages (from ipython>=7.23.1->ipykernel->-r /content/drive/MyDrive/text_mining/multilingual-summarization-20250312/requirements.txt (line 9)) (0.19.2)\n",
            "Requirement already satisfied: decorator in /usr/local/lib/python3.11/dist-packages (from ipython>=7.23.1->ipykernel->-r /content/drive/MyDrive/text_mining/multilingual-summarization-20250312/requirements.txt (line 9)) (4.4.2)\n",
            "Requirement already satisfied: pickleshare in /usr/local/lib/python3.11/dist-packages (from ipython>=7.23.1->ipykernel->-r /content/drive/MyDrive/text_mining/multilingual-summarization-20250312/requirements.txt (line 9)) (0.7.5)\n",
            "Requirement already satisfied: prompt-toolkit!=3.0.0,!=3.0.1,<3.1.0,>=2.0.0 in /usr/local/lib/python3.11/dist-packages (from ipython>=7.23.1->ipykernel->-r /content/drive/MyDrive/text_mining/multilingual-summarization-20250312/requirements.txt (line 9)) (3.0.50)\n",
            "Requirement already satisfied: backcall in /usr/local/lib/python3.11/dist-packages (from ipython>=7.23.1->ipykernel->-r /content/drive/MyDrive/text_mining/multilingual-summarization-20250312/requirements.txt (line 9)) (0.2.0)\n",
            "Requirement already satisfied: pexpect>4.3 in /usr/local/lib/python3.11/dist-packages (from ipython>=7.23.1->ipykernel->-r /content/drive/MyDrive/text_mining/multilingual-summarization-20250312/requirements.txt (line 9)) (4.9.0)\n",
            "Requirement already satisfied: jsonschema-specifications>=2023.03.6 in /usr/local/lib/python3.11/dist-packages (from jsonschema>=4.23.0->weave->-r /content/drive/MyDrive/text_mining/multilingual-summarization-20250312/requirements.txt (line 16)) (2024.10.1)\n",
            "Requirement already satisfied: referencing>=0.28.4 in /usr/local/lib/python3.11/dist-packages (from jsonschema>=4.23.0->weave->-r /content/drive/MyDrive/text_mining/multilingual-summarization-20250312/requirements.txt (line 16)) (0.36.2)\n",
            "Requirement already satisfied: rpds-py>=0.7.1 in /usr/local/lib/python3.11/dist-packages (from jsonschema>=4.23.0->weave->-r /content/drive/MyDrive/text_mining/multilingual-summarization-20250312/requirements.txt (line 16)) (0.23.1)\n",
            "Requirement already satisfied: entrypoints in /usr/local/lib/python3.11/dist-packages (from jupyter-client>=6.1.12->ipykernel->-r /content/drive/MyDrive/text_mining/multilingual-summarization-20250312/requirements.txt (line 9)) (0.4)\n",
            "Requirement already satisfied: jupyter-core>=4.9.2 in /usr/local/lib/python3.11/dist-packages (from jupyter-client>=6.1.12->ipykernel->-r /content/drive/MyDrive/text_mining/multilingual-summarization-20250312/requirements.txt (line 9)) (5.7.2)\n",
            "Requirement already satisfied: python-dateutil>=2.8.2 in /usr/local/lib/python3.11/dist-packages (from jupyter-client>=6.1.12->ipykernel->-r /content/drive/MyDrive/text_mining/multilingual-summarization-20250312/requirements.txt (line 9)) (2.8.2)\n",
            "Requirement already satisfied: mdurl~=0.1 in /usr/local/lib/python3.11/dist-packages (from markdown-it-py>=2.2.0->rich->-r /content/drive/MyDrive/text_mining/multilingual-summarization-20250312/requirements.txt (line 14)) (0.1.2)\n",
            "Requirement already satisfied: annotated-types>=0.6.0 in /usr/local/lib/python3.11/dist-packages (from pydantic<3,>=2.6->wandb->-r /content/drive/MyDrive/text_mining/multilingual-summarization-20250312/requirements.txt (line 7)) (0.7.0)\n",
            "Requirement already satisfied: pydantic-core==2.27.2 in /usr/local/lib/python3.11/dist-packages (from pydantic<3,>=2.6->wandb->-r /content/drive/MyDrive/text_mining/multilingual-summarization-20250312/requirements.txt (line 7)) (2.27.2)\n",
            "Requirement already satisfied: charset-normalizer<4,>=2 in /usr/local/lib/python3.11/dist-packages (from requests->transformers->-r /content/drive/MyDrive/text_mining/multilingual-summarization-20250312/requirements.txt (line 2)) (3.4.1)\n",
            "Requirement already satisfied: idna<4,>=2.5 in /usr/local/lib/python3.11/dist-packages (from requests->transformers->-r /content/drive/MyDrive/text_mining/multilingual-summarization-20250312/requirements.txt (line 2)) (3.10)\n",
            "Requirement already satisfied: certifi>=2017.4.17 in /usr/local/lib/python3.11/dist-packages (from requests->transformers->-r /content/drive/MyDrive/text_mining/multilingual-summarization-20250312/requirements.txt (line 2)) (2025.1.31)\n",
            "Requirement already satisfied: argon2-cffi in /usr/local/lib/python3.11/dist-packages (from notebook->jupyter->-r /content/drive/MyDrive/text_mining/multilingual-summarization-20250312/requirements.txt (line 10)) (23.1.0)\n",
            "Requirement already satisfied: nbformat in /usr/local/lib/python3.11/dist-packages (from notebook->jupyter->-r /content/drive/MyDrive/text_mining/multilingual-summarization-20250312/requirements.txt (line 10)) (5.10.4)\n",
            "Requirement already satisfied: Send2Trash>=1.8.0 in /usr/local/lib/python3.11/dist-packages (from notebook->jupyter->-r /content/drive/MyDrive/text_mining/multilingual-summarization-20250312/requirements.txt (line 10)) (1.8.3)\n",
            "Requirement already satisfied: terminado>=0.8.3 in /usr/local/lib/python3.11/dist-packages (from notebook->jupyter->-r /content/drive/MyDrive/text_mining/multilingual-summarization-20250312/requirements.txt (line 10)) (0.18.1)\n",
            "Requirement already satisfied: prometheus-client in /usr/local/lib/python3.11/dist-packages (from notebook->jupyter->-r /content/drive/MyDrive/text_mining/multilingual-summarization-20250312/requirements.txt (line 10)) (0.21.1)\n",
            "Requirement already satisfied: nbclassic>=0.4.7 in /usr/local/lib/python3.11/dist-packages (from notebook->jupyter->-r /content/drive/MyDrive/text_mining/multilingual-summarization-20250312/requirements.txt (line 10)) (1.2.0)\n",
            "Requirement already satisfied: beautifulsoup4 in /usr/local/lib/python3.11/dist-packages (from nbconvert->jupyter->-r /content/drive/MyDrive/text_mining/multilingual-summarization-20250312/requirements.txt (line 10)) (4.13.3)\n",
            "Requirement already satisfied: bleach!=5.0.0 in /usr/local/lib/python3.11/dist-packages (from bleach[css]!=5.0.0->nbconvert->jupyter->-r /content/drive/MyDrive/text_mining/multilingual-summarization-20250312/requirements.txt (line 10)) (6.2.0)\n",
            "Requirement already satisfied: defusedxml in /usr/local/lib/python3.11/dist-packages (from nbconvert->jupyter->-r /content/drive/MyDrive/text_mining/multilingual-summarization-20250312/requirements.txt (line 10)) (0.7.1)\n",
            "Requirement already satisfied: jupyterlab-pygments in /usr/local/lib/python3.11/dist-packages (from nbconvert->jupyter->-r /content/drive/MyDrive/text_mining/multilingual-summarization-20250312/requirements.txt (line 10)) (0.3.0)\n",
            "Requirement already satisfied: markupsafe>=2.0 in /usr/local/lib/python3.11/dist-packages (from nbconvert->jupyter->-r /content/drive/MyDrive/text_mining/multilingual-summarization-20250312/requirements.txt (line 10)) (3.0.2)\n",
            "Requirement already satisfied: mistune<4,>=2.0.3 in /usr/local/lib/python3.11/dist-packages (from nbconvert->jupyter->-r /content/drive/MyDrive/text_mining/multilingual-summarization-20250312/requirements.txt (line 10)) (3.1.2)\n",
            "Requirement already satisfied: nbclient>=0.5.0 in /usr/local/lib/python3.11/dist-packages (from nbconvert->jupyter->-r /content/drive/MyDrive/text_mining/multilingual-summarization-20250312/requirements.txt (line 10)) (0.10.2)\n",
            "Requirement already satisfied: pandocfilters>=1.4.1 in /usr/local/lib/python3.11/dist-packages (from nbconvert->jupyter->-r /content/drive/MyDrive/text_mining/multilingual-summarization-20250312/requirements.txt (line 10)) (1.5.1)\n",
            "Requirement already satisfied: graphql-core<3.2.5,>=3.2 in /usr/local/lib/python3.11/dist-packages (from gql[aiohttp,requests]->weave->-r /content/drive/MyDrive/text_mining/multilingual-summarization-20250312/requirements.txt (line 16)) (3.2.4)\n",
            "Requirement already satisfied: backoff<3.0,>=1.11.1 in /usr/local/lib/python3.11/dist-packages (from gql[aiohttp,requests]->weave->-r /content/drive/MyDrive/text_mining/multilingual-summarization-20250312/requirements.txt (line 16)) (2.2.1)\n",
            "Requirement already satisfied: anyio<5,>=3.0 in /usr/local/lib/python3.11/dist-packages (from gql[aiohttp,requests]->weave->-r /content/drive/MyDrive/text_mining/multilingual-summarization-20250312/requirements.txt (line 16)) (3.7.1)\n",
            "Requirement already satisfied: requests-toolbelt<2,>=1.0.0 in /usr/local/lib/python3.11/dist-packages (from gql[aiohttp,requests]->weave->-r /content/drive/MyDrive/text_mining/multilingual-summarization-20250312/requirements.txt (line 16)) (1.0.0)\n",
            "Requirement already satisfied: async-lru>=1.0.0 in /usr/local/lib/python3.11/dist-packages (from jupyterlab->jupyter->-r /content/drive/MyDrive/text_mining/multilingual-summarization-20250312/requirements.txt (line 10)) (2.0.4)\n",
            "Requirement already satisfied: httpx>=0.25.0 in /usr/local/lib/python3.11/dist-packages (from jupyterlab->jupyter->-r /content/drive/MyDrive/text_mining/multilingual-summarization-20250312/requirements.txt (line 10)) (0.28.1)\n",
            "Requirement already satisfied: jupyter-lsp>=2.0.0 in /usr/local/lib/python3.11/dist-packages (from jupyterlab->jupyter->-r /content/drive/MyDrive/text_mining/multilingual-summarization-20250312/requirements.txt (line 10)) (2.2.5)\n",
            "Requirement already satisfied: jupyter-server<3,>=2.4.0 in /usr/local/lib/python3.11/dist-packages (from jupyterlab->jupyter->-r /content/drive/MyDrive/text_mining/multilingual-summarization-20250312/requirements.txt (line 10)) (2.15.0)\n",
            "Requirement already satisfied: jupyterlab-server<3,>=2.27.1 in /usr/local/lib/python3.11/dist-packages (from jupyterlab->jupyter->-r /content/drive/MyDrive/text_mining/multilingual-summarization-20250312/requirements.txt (line 10)) (2.27.3)\n",
            "Requirement already satisfied: notebook-shim>=0.2 in /usr/local/lib/python3.11/dist-packages (from jupyterlab->jupyter->-r /content/drive/MyDrive/text_mining/multilingual-summarization-20250312/requirements.txt (line 10)) (0.2.4)\n",
            "Requirement already satisfied: pytz>=2020.1 in /usr/local/lib/python3.11/dist-packages (from pandas->datasets->-r /content/drive/MyDrive/text_mining/multilingual-summarization-20250312/requirements.txt (line 3)) (2025.1)\n",
            "Requirement already satisfied: tzdata>=2022.7 in /usr/local/lib/python3.11/dist-packages (from pandas->datasets->-r /content/drive/MyDrive/text_mining/multilingual-summarization-20250312/requirements.txt (line 3)) (2025.1)\n",
            "Requirement already satisfied: sniffio>=1.1 in /usr/local/lib/python3.11/dist-packages (from anyio<5,>=3.0->gql[aiohttp,requests]->weave->-r /content/drive/MyDrive/text_mining/multilingual-summarization-20250312/requirements.txt (line 16)) (1.3.1)\n",
            "Requirement already satisfied: webencodings in /usr/local/lib/python3.11/dist-packages (from bleach!=5.0.0->bleach[css]!=5.0.0->nbconvert->jupyter->-r /content/drive/MyDrive/text_mining/multilingual-summarization-20250312/requirements.txt (line 10)) (0.5.1)\n",
            "Requirement already satisfied: tinycss2<1.5,>=1.1.0 in /usr/local/lib/python3.11/dist-packages (from bleach[css]!=5.0.0->nbconvert->jupyter->-r /content/drive/MyDrive/text_mining/multilingual-summarization-20250312/requirements.txt (line 10)) (1.4.0)\n",
            "Requirement already satisfied: smmap<6,>=3.0.1 in /usr/local/lib/python3.11/dist-packages (from gitdb<5,>=4.0.1->gitpython!=3.1.29,>=1.0.0->wandb->-r /content/drive/MyDrive/text_mining/multilingual-summarization-20250312/requirements.txt (line 7)) (5.0.2)\n",
            "Requirement already satisfied: httpcore==1.* in /usr/local/lib/python3.11/dist-packages (from httpx>=0.25.0->jupyterlab->jupyter->-r /content/drive/MyDrive/text_mining/multilingual-summarization-20250312/requirements.txt (line 10)) (1.0.7)\n",
            "Requirement already satisfied: h11<0.15,>=0.13 in /usr/local/lib/python3.11/dist-packages (from httpcore==1.*->httpx>=0.25.0->jupyterlab->jupyter->-r /content/drive/MyDrive/text_mining/multilingual-summarization-20250312/requirements.txt (line 10)) (0.14.0)\n",
            "Requirement already satisfied: parso<0.9.0,>=0.8.4 in /usr/local/lib/python3.11/dist-packages (from jedi>=0.16->ipython>=7.23.1->ipykernel->-r /content/drive/MyDrive/text_mining/multilingual-summarization-20250312/requirements.txt (line 9)) (0.8.4)\n",
            "Requirement already satisfied: jupyter-events>=0.11.0 in /usr/local/lib/python3.11/dist-packages (from jupyter-server<3,>=2.4.0->jupyterlab->jupyter->-r /content/drive/MyDrive/text_mining/multilingual-summarization-20250312/requirements.txt (line 10)) (0.12.0)\n",
            "Requirement already satisfied: jupyter-server-terminals>=0.4.4 in /usr/local/lib/python3.11/dist-packages (from jupyter-server<3,>=2.4.0->jupyterlab->jupyter->-r /content/drive/MyDrive/text_mining/multilingual-summarization-20250312/requirements.txt (line 10)) (0.5.3)\n",
            "Requirement already satisfied: overrides>=5.0 in /usr/local/lib/python3.11/dist-packages (from jupyter-server<3,>=2.4.0->jupyterlab->jupyter->-r /content/drive/MyDrive/text_mining/multilingual-summarization-20250312/requirements.txt (line 10)) (7.7.0)\n",
            "Requirement already satisfied: websocket-client>=1.7 in /usr/local/lib/python3.11/dist-packages (from jupyter-server<3,>=2.4.0->jupyterlab->jupyter->-r /content/drive/MyDrive/text_mining/multilingual-summarization-20250312/requirements.txt (line 10)) (1.8.0)\n",
            "Requirement already satisfied: argon2-cffi-bindings in /usr/local/lib/python3.11/dist-packages (from argon2-cffi->notebook->jupyter->-r /content/drive/MyDrive/text_mining/multilingual-summarization-20250312/requirements.txt (line 10)) (21.2.0)\n",
            "Requirement already satisfied: babel>=2.10 in /usr/local/lib/python3.11/dist-packages (from jupyterlab-server<3,>=2.27.1->jupyterlab->jupyter->-r /content/drive/MyDrive/text_mining/multilingual-summarization-20250312/requirements.txt (line 10)) (2.17.0)\n",
            "Requirement already satisfied: json5>=0.9.0 in /usr/local/lib/python3.11/dist-packages (from jupyterlab-server<3,>=2.27.1->jupyterlab->jupyter->-r /content/drive/MyDrive/text_mining/multilingual-summarization-20250312/requirements.txt (line 10)) (0.10.0)\n",
            "Requirement already satisfied: fastjsonschema>=2.15 in /usr/local/lib/python3.11/dist-packages (from nbformat->notebook->jupyter->-r /content/drive/MyDrive/text_mining/multilingual-summarization-20250312/requirements.txt (line 10)) (2.21.1)\n",
            "Requirement already satisfied: ptyprocess>=0.5 in /usr/local/lib/python3.11/dist-packages (from pexpect>4.3->ipython>=7.23.1->ipykernel->-r /content/drive/MyDrive/text_mining/multilingual-summarization-20250312/requirements.txt (line 9)) (0.7.0)\n",
            "Requirement already satisfied: wcwidth in /usr/local/lib/python3.11/dist-packages (from prompt-toolkit!=3.0.0,!=3.0.1,<3.1.0,>=2.0.0->ipython>=7.23.1->ipykernel->-r /content/drive/MyDrive/text_mining/multilingual-summarization-20250312/requirements.txt (line 9)) (0.2.13)\n",
            "Requirement already satisfied: soupsieve>1.2 in /usr/local/lib/python3.11/dist-packages (from beautifulsoup4->nbconvert->jupyter->-r /content/drive/MyDrive/text_mining/multilingual-summarization-20250312/requirements.txt (line 10)) (2.6)\n",
            "Requirement already satisfied: python-json-logger>=2.0.4 in /usr/local/lib/python3.11/dist-packages (from jupyter-events>=0.11.0->jupyter-server<3,>=2.4.0->jupyterlab->jupyter->-r /content/drive/MyDrive/text_mining/multilingual-summarization-20250312/requirements.txt (line 10)) (3.3.0)\n",
            "Requirement already satisfied: rfc3339-validator in /usr/local/lib/python3.11/dist-packages (from jupyter-events>=0.11.0->jupyter-server<3,>=2.4.0->jupyterlab->jupyter->-r /content/drive/MyDrive/text_mining/multilingual-summarization-20250312/requirements.txt (line 10)) (0.1.4)\n",
            "Requirement already satisfied: rfc3986-validator>=0.1.1 in /usr/local/lib/python3.11/dist-packages (from jupyter-events>=0.11.0->jupyter-server<3,>=2.4.0->jupyterlab->jupyter->-r /content/drive/MyDrive/text_mining/multilingual-summarization-20250312/requirements.txt (line 10)) (0.1.1)\n",
            "Requirement already satisfied: cffi>=1.0.1 in /usr/local/lib/python3.11/dist-packages (from argon2-cffi-bindings->argon2-cffi->notebook->jupyter->-r /content/drive/MyDrive/text_mining/multilingual-summarization-20250312/requirements.txt (line 10)) (1.17.1)\n",
            "Requirement already satisfied: pycparser in /usr/local/lib/python3.11/dist-packages (from cffi>=1.0.1->argon2-cffi-bindings->argon2-cffi->notebook->jupyter->-r /content/drive/MyDrive/text_mining/multilingual-summarization-20250312/requirements.txt (line 10)) (2.22)\n",
            "Requirement already satisfied: fqdn in /usr/local/lib/python3.11/dist-packages (from jsonschema[format-nongpl]>=4.18.0->jupyter-events>=0.11.0->jupyter-server<3,>=2.4.0->jupyterlab->jupyter->-r /content/drive/MyDrive/text_mining/multilingual-summarization-20250312/requirements.txt (line 10)) (1.5.1)\n",
            "Requirement already satisfied: isoduration in /usr/local/lib/python3.11/dist-packages (from jsonschema[format-nongpl]>=4.18.0->jupyter-events>=0.11.0->jupyter-server<3,>=2.4.0->jupyterlab->jupyter->-r /content/drive/MyDrive/text_mining/multilingual-summarization-20250312/requirements.txt (line 10)) (20.11.0)\n",
            "Requirement already satisfied: jsonpointer>1.13 in /usr/local/lib/python3.11/dist-packages (from jsonschema[format-nongpl]>=4.18.0->jupyter-events>=0.11.0->jupyter-server<3,>=2.4.0->jupyterlab->jupyter->-r /content/drive/MyDrive/text_mining/multilingual-summarization-20250312/requirements.txt (line 10)) (3.0.0)\n",
            "Requirement already satisfied: uri-template in /usr/local/lib/python3.11/dist-packages (from jsonschema[format-nongpl]>=4.18.0->jupyter-events>=0.11.0->jupyter-server<3,>=2.4.0->jupyterlab->jupyter->-r /content/drive/MyDrive/text_mining/multilingual-summarization-20250312/requirements.txt (line 10)) (1.3.0)\n",
            "Requirement already satisfied: webcolors>=24.6.0 in /usr/local/lib/python3.11/dist-packages (from jsonschema[format-nongpl]>=4.18.0->jupyter-events>=0.11.0->jupyter-server<3,>=2.4.0->jupyterlab->jupyter->-r /content/drive/MyDrive/text_mining/multilingual-summarization-20250312/requirements.txt (line 10)) (24.11.1)\n",
            "Requirement already satisfied: arrow>=0.15.0 in /usr/local/lib/python3.11/dist-packages (from isoduration->jsonschema[format-nongpl]>=4.18.0->jupyter-events>=0.11.0->jupyter-server<3,>=2.4.0->jupyterlab->jupyter->-r /content/drive/MyDrive/text_mining/multilingual-summarization-20250312/requirements.txt (line 10)) (1.3.0)\n",
            "Requirement already satisfied: types-python-dateutil>=2.8.10 in /usr/local/lib/python3.11/dist-packages (from arrow>=0.15.0->isoduration->jsonschema[format-nongpl]>=4.18.0->jupyter-events>=0.11.0->jupyter-server<3,>=2.4.0->jupyterlab->jupyter->-r /content/drive/MyDrive/text_mining/multilingual-summarization-20250312/requirements.txt (line 10)) (2.9.0.20241206)\n"
          ]
        }
      ]
    },
    {
      "cell_type": "code",
      "source": [
        "!wandb login"
      ],
      "metadata": {
        "colab": {
          "base_uri": "https://localhost:8080/"
        },
        "id": "5UxEie_0THtq",
        "outputId": "f0519f14-1746-4dfa-d986-070a2a56361e"
      },
      "execution_count": null,
      "outputs": [
        {
          "output_type": "stream",
          "name": "stdout",
          "text": [
            "\u001b[34m\u001b[1mwandb\u001b[0m: Currently logged in as: \u001b[33mkazetof\u001b[0m (\u001b[33mllm-summarization-fbt3r5\u001b[0m) to \u001b[32mhttps://api.wandb.ai\u001b[0m. Use \u001b[1m`wandb login --relogin`\u001b[0m to force relogin\n"
          ]
        }
      ]
    },
    {
      "cell_type": "code",
      "execution_count": null,
      "metadata": {
        "id": "vLjfDkqBR64h"
      },
      "outputs": [],
      "source": [
        "from huggingface_hub import login\n",
        "\n",
        "# Replace with your actual Hugging Face token\n",
        "hf_token = \"\"\n",
        "\n",
        "# Log in to Hugging Face\n",
        "login(token=hf_token)"
      ]
    },
    {
      "cell_type": "markdown",
      "source": [
        "# mbart"
      ],
      "metadata": {
        "id": "w29E-wS9TUZj"
      }
    },
    {
      "cell_type": "code",
      "source": [
        "import os\n",
        "\n",
        "import torch\n",
        "from transformers import MBartForConditionalGeneration, MBart50TokenizerFast\n",
        "from datasets import load_dataset, load_from_disk\n",
        "from transformers import Trainer, TrainingArguments\n",
        "\n",
        "# 使用するモデルとトークナイザーのロード\n",
        "model_name = \"facebook/mbart-large-50\"\n",
        "tokenizer = MBart50TokenizerFast.from_pretrained(model_name)\n",
        "model = MBartForConditionalGeneration.from_pretrained(model_name)\n"
      ],
      "metadata": {
        "colab": {
          "base_uri": "https://localhost:8080/"
        },
        "id": "bd8U9lCRSMje",
        "outputId": "c590b4ee-6922-4d46-d4a4-cbf4eee39534"
      },
      "execution_count": null,
      "outputs": [
        {
          "output_type": "stream",
          "name": "stderr",
          "text": [
            "/usr/local/lib/python3.11/dist-packages/huggingface_hub/utils/_auth.py:94: UserWarning: \n",
            "The secret `HF_TOKEN` does not exist in your Colab secrets.\n",
            "To authenticate with the Hugging Face Hub, create a token in your settings tab (https://huggingface.co/settings/tokens), set it as secret in your Google Colab and restart your session.\n",
            "You will be able to reuse this secret in all of your notebooks.\n",
            "Please note that authentication is recommended but still optional to access public models or datasets.\n",
            "  warnings.warn(\n"
          ]
        }
      ]
    },
    {
      "cell_type": "code",
      "source": [
        "# データセットの読み込み\n",
        "\n",
        "dataset_path = \"/content/drive/MyDrive/text_mining/hf_dataset_from_quiscale\"\n",
        "language = \"de\"\n",
        "dataset = load_from_disk(os.path.join(dataset_path, language))\n",
        "train_dataset = dataset[\"train\"]\n",
        "val_dataset = dataset[\"validation\"]\n"
      ],
      "metadata": {
        "id": "2AEy5EHsSNtk"
      },
      "execution_count": null,
      "outputs": []
    },
    {
      "cell_type": "code",
      "source": [
        "def generate_summary(text: str, model, tokenizer):\n",
        "    inputs = tokenizer(text, return_tensors=\"pt\", max_length=512, truncation=True).to(model.device)\n",
        "    summary_ids = model.generate(inputs[\"input_ids\"], max_length=150, num_beams=4, early_stopping=True)\n",
        "    summary = tokenizer.decode(summary_ids[0], skip_special_tokens=True)\n",
        "    return summary\n",
        "\n",
        "# summarize sample text\n",
        "sample_text = \"Your article text here.\"\n",
        "print(generate_summary(sample_text, model, tokenizer))"
      ],
      "metadata": {
        "colab": {
          "base_uri": "https://localhost:8080/"
        },
        "id": "RQn1-WJ5SO1w",
        "outputId": "3eeb63df-04fa-4d1a-b989-b2a2f353ae4c"
      },
      "execution_count": null,
      "outputs": [
        {
          "output_type": "stream",
          "name": "stdout",
          "text": [
            "Your article text here.\n"
          ]
        }
      ]
    },
    {
      "cell_type": "code",
      "source": [
        "from rouge import Rouge\n",
        "import numpy as np\n",
        "\n",
        "def calculate_rouge_scores(generated, reference):\n",
        "    rouge = Rouge()\n",
        "    scores = rouge.get_scores(generated, reference)[0]\n",
        "\n",
        "    return {\n",
        "        \"rouge-1\": scores[\"rouge-1\"][\"f\"],\n",
        "        \"rouge-2\": scores[\"rouge-2\"][\"f\"],\n",
        "        \"rouge-l\": scores[\"rouge-l\"][\"f\"],\n",
        "    }\n"
      ],
      "metadata": {
        "id": "1g2ZarHsSQMr"
      },
      "execution_count": null,
      "outputs": []
    },
    {
      "cell_type": "code",
      "source": [
        "\n",
        "def calculate_avg_rouge_scores(val_dataset, model, tokenizer):\n",
        "  max_samples = 10\n",
        "  indices = list(range(len(val_dataset)))\n",
        "  sample_indices = np.random.choice(\n",
        "      indices,\n",
        "      min(max_samples, len(val_dataset)),\n",
        "      replace=False\n",
        "  )\n",
        "\n",
        "  rouge_scores = []\n",
        "  for idx in sample_indices:\n",
        "      print(\"idx : \", idx)\n",
        "      text = val_dataset[int(idx)][\"text\"]\n",
        "      generated = generate_summary(text, model, tokenizer)\n",
        "      reference = val_dataset[int(idx)][\"summary\"]\n",
        "\n",
        "      score = calculate_rouge_scores(generated, reference)\n",
        "      rouge_scores.append(score)\n",
        "      print(score)\n",
        "\n",
        "  # Calculate average scores\n",
        "  avg_rouge_scores = {\n",
        "      metric: np.mean([score[metric] for score in rouge_scores])\n",
        "      for metric in [\"rouge-1\", \"rouge-2\", \"rouge-l\"]\n",
        "  }\n",
        "  return avg_rouge_scores"
      ],
      "metadata": {
        "id": "xCVHG-mLSRZA"
      },
      "execution_count": null,
      "outputs": []
    },
    {
      "cell_type": "code",
      "source": [
        "avg_rouge_scores = calculate_avg_rouge_scores(val_dataset, model, tokenizer)\n",
        "print(\"avg : \", avg_rouge_scores)"
      ],
      "metadata": {
        "colab": {
          "base_uri": "https://localhost:8080/"
        },
        "id": "-3BVMHJSSTBX",
        "outputId": "8c98e95b-94e0-41f0-e9ed-242f91cc2b3f"
      },
      "execution_count": null,
      "outputs": [
        {
          "output_type": "stream",
          "name": "stdout",
          "text": [
            "idx :  305\n",
            "{'rouge-1': 0.11881187629840231, 'rouge-2': 0.0, 'rouge-l': 0.09900989610038256}\n",
            "idx :  484\n",
            "{'rouge-1': 0.21487602830680974, 'rouge-2': 0.07594936251241816, 'rouge-l': 0.21487602830680974}\n",
            "idx :  131\n",
            "{'rouge-1': 0.14285713860102053, 'rouge-2': 0.035928139721037415, 'rouge-l': 0.12857142431530627}\n",
            "idx :  460\n",
            "{'rouge-1': 0.16071428072863536, 'rouge-2': 0.04411764205990541, 'rouge-l': 0.1428571378714925}\n",
            "idx :  499\n",
            "{'rouge-1': 0.15053763047751195, 'rouge-2': 0.03773584545211854, 'rouge-l': 0.10752687778933995}\n",
            "idx :  85\n",
            "{'rouge-1': 0.12389380078941202, 'rouge-2': 0.0, 'rouge-l': 0.10619468574516426}\n",
            "idx :  72\n",
            "{'rouge-1': 0.25954197983800487, 'rouge-2': 0.1052631530193908, 'rouge-l': 0.24427480426548578}\n",
            "idx :  5\n",
            "{'rouge-1': 0.2409638511649006, 'rouge-2': 0.048309174841886945, 'rouge-l': 0.22891565839381628}\n",
            "idx :  96\n",
            "{'rouge-1': 0.03669724328255251, 'rouge-2': 0.0, 'rouge-l': 0.03669724328255251}\n",
            "idx :  145\n",
            "{'rouge-1': 0.15602836444846852, 'rouge-2': 0.02439023957168429, 'rouge-l': 0.14184396728534795}\n",
            "avg :  {'rouge-1': 0.16049221939357186, 'rouge-2': 0.03716935571784415, 'rouge-l': 0.1450767723355698}\n"
          ]
        }
      ]
    },
    {
      "cell_type": "code",
      "source": [
        "def tokenize_function(examples):\n",
        "    inputs = examples[\"text\"]\n",
        "    targets = examples[\"summary\"]\n",
        "\n",
        "    # tokenize input and label\n",
        "    model_inputs = tokenizer(inputs, padding=\"max_length\", truncation=True, max_length=512)\n",
        "    labels = tokenizer(targets, padding=\"max_length\", truncation=True, max_length=150)\n",
        "    model_inputs[\"labels\"] = labels[\"input_ids\"]\n",
        "\n",
        "    return model_inputs\n",
        "\n",
        "# apply tokenizer for dataset\n",
        "tokenized_datasets = dataset.map(tokenize_function, batched=True)\n",
        "\n",
        "# setting for training\n",
        "training_args = TrainingArguments(\n",
        "    output_dir=\"./results\",\n",
        "    num_train_epochs=3,\n",
        "    per_device_train_batch_size=8,\n",
        "    per_device_eval_batch_size=8,\n",
        "    logging_dir=\"./logs\",\n",
        "    logging_steps=200,\n",
        "    evaluation_strategy=\"steps\",\n",
        "    save_steps=1000,\n",
        "    save_total_limit=2,\n",
        "    fp16=True,\n",
        "    load_best_model_at_end=True\n",
        ")\n",
        "\n",
        "# setting Trainer\n",
        "trainer = Trainer(\n",
        "    model=model,\n",
        "    args=training_args,\n",
        "    train_dataset=tokenized_datasets[\"train\"],\n",
        "    eval_dataset=tokenized_datasets[\"validation\"],\n",
        "    tokenizer=tokenizer\n",
        ")\n",
        "\n",
        "# finetuning\n",
        "trainer.train()\n",
        "\n",
        "# save model\n",
        "model.save_pretrained(\"./finetuned_model\")\n",
        "tokenizer.save_pretrained(\"./finetuned_model\")\n",
        "\n",
        "\n"
      ],
      "metadata": {
        "colab": {
          "base_uri": "https://localhost:8080/",
          "height": 769,
          "referenced_widgets": [
            "e8c8129f40eb41308cea2650a2f1eefa",
            "de1bfdb21bba411294f06599edb84f5f",
            "38605d85c5074122971a69b0b43cd7c6",
            "78ee97458b7b4052871528b8a012647c",
            "edfabcf95f064eabaf0f8f718101bfdc",
            "a04eff52173142abbe82291696278b77",
            "1d4f35e0f6494f0a8e3188bc747c6ba2",
            "ccb9f077f61442819caed545d47b2154",
            "da6aef7223d8476b9265c4547cfd12e7",
            "c213447f23434b2eb477fb056720e017",
            "eebbae247ebd4a4881a58f0d2cbdd125",
            "99b4b13206ed4c33b5476f9609868dbc",
            "4cd66a3377e74fce879b332759bb5222",
            "4af2a34d2686447ab8895cd8fe70b675",
            "f8dc7db48cae4d0f938be69a78d70acd",
            "e5dea692ad1b499f8a10572900bb5674",
            "90b8001bffd946929f576baac5fceac9",
            "1d04c8431b484edea8f9e77c164b8561",
            "79c1d259fb9349bebdf831d5cc6f3714",
            "7745f92766054ecda90798dd6bfd919d",
            "b9ab595f6dad4881a0967a14c5214f86",
            "cecab05ac9234cacbf9f0e80ec6a93a9",
            "f9c8ce0ee286422ba0b79a1fab990c66",
            "7c814bfddde34182853dfdb8428c95d1",
            "e3823fc5b82e4ede8a593a7cdc89f74e",
            "fb813973fd50490381cb055bb07a5c14",
            "583b47e9db4243e6a906e629ab5d17fa",
            "2207fb1dcde4435d92e3efce1dc5ff5d",
            "44f395106da64852b674d5e44fb1db4e",
            "081c0ada778445e39ad8b9dd3df44f4a",
            "dbe41b617ed646f8982a047bff2dcf71",
            "21f966ed2d8344e78df0c0505ac5f623",
            "0e092c533f48406bbb6f15d4d2869ca9"
          ]
        },
        "id": "RGa8zlJHSUNE",
        "outputId": "dc538cf5-de64-4027-c10f-fd194e75bd79"
      },
      "execution_count": null,
      "outputs": [
        {
          "output_type": "display_data",
          "data": {
            "text/plain": [
              "Map:   0%|          | 0/3999 [00:00<?, ? examples/s]"
            ],
            "application/vnd.jupyter.widget-view+json": {
              "version_major": 2,
              "version_minor": 0,
              "model_id": "e8c8129f40eb41308cea2650a2f1eefa"
            }
          },
          "metadata": {}
        },
        {
          "output_type": "display_data",
          "data": {
            "text/plain": [
              "Map:   0%|          | 0/501 [00:00<?, ? examples/s]"
            ],
            "application/vnd.jupyter.widget-view+json": {
              "version_major": 2,
              "version_minor": 0,
              "model_id": "99b4b13206ed4c33b5476f9609868dbc"
            }
          },
          "metadata": {}
        },
        {
          "output_type": "display_data",
          "data": {
            "text/plain": [
              "Map:   0%|          | 0/500 [00:00<?, ? examples/s]"
            ],
            "application/vnd.jupyter.widget-view+json": {
              "version_major": 2,
              "version_minor": 0,
              "model_id": "f9c8ce0ee286422ba0b79a1fab990c66"
            }
          },
          "metadata": {}
        },
        {
          "output_type": "stream",
          "name": "stderr",
          "text": [
            "/usr/local/lib/python3.11/dist-packages/transformers/training_args.py:1575: FutureWarning: `evaluation_strategy` is deprecated and will be removed in version 4.46 of 🤗 Transformers. Use `eval_strategy` instead\n",
            "  warnings.warn(\n",
            "<ipython-input-10-ff488d5eb6ec>:31: FutureWarning: `tokenizer` is deprecated and will be removed in version 5.0.0 for `Trainer.__init__`. Use `processing_class` instead.\n",
            "  trainer = Trainer(\n",
            "\u001b[34m\u001b[1mwandb\u001b[0m: \u001b[33mWARNING\u001b[0m The `run_name` is currently set to the same value as `TrainingArguments.output_dir`. If this was not intended, please specify a different run name by setting the `TrainingArguments.run_name` parameter.\n",
            "\u001b[34m\u001b[1mwandb\u001b[0m: Using wandb-core as the SDK backend.  Please refer to https://wandb.me/wandb-core for more information.\n",
            "\u001b[34m\u001b[1mwandb\u001b[0m: Currently logged in as: \u001b[33mkazetof\u001b[0m (\u001b[33mllm-summarization-fbt3r5\u001b[0m) to \u001b[32mhttps://api.wandb.ai\u001b[0m. Use \u001b[1m`wandb login --relogin`\u001b[0m to force relogin\n"
          ]
        },
        {
          "output_type": "display_data",
          "data": {
            "text/plain": [
              "<IPython.core.display.HTML object>"
            ],
            "text/html": [
              "Tracking run with wandb version 0.19.8"
            ]
          },
          "metadata": {}
        },
        {
          "output_type": "display_data",
          "data": {
            "text/plain": [
              "<IPython.core.display.HTML object>"
            ],
            "text/html": [
              "Run data is saved locally in <code>/content/wandb/run-20250312_225623-zlgogti3</code>"
            ]
          },
          "metadata": {}
        },
        {
          "output_type": "display_data",
          "data": {
            "text/plain": [
              "<IPython.core.display.HTML object>"
            ],
            "text/html": [
              "Syncing run <strong><a href='https://wandb.ai/llm-summarization-fbt3r5/huggingface/runs/zlgogti3' target=\"_blank\">./results</a></strong> to <a href='https://wandb.ai/llm-summarization-fbt3r5/huggingface' target=\"_blank\">Weights & Biases</a> (<a href='https://wandb.me/developer-guide' target=\"_blank\">docs</a>)<br>"
            ]
          },
          "metadata": {}
        },
        {
          "output_type": "display_data",
          "data": {
            "text/plain": [
              "<IPython.core.display.HTML object>"
            ],
            "text/html": [
              " View project at <a href='https://wandb.ai/llm-summarization-fbt3r5/huggingface' target=\"_blank\">https://wandb.ai/llm-summarization-fbt3r5/huggingface</a>"
            ]
          },
          "metadata": {}
        },
        {
          "output_type": "display_data",
          "data": {
            "text/plain": [
              "<IPython.core.display.HTML object>"
            ],
            "text/html": [
              " View run at <a href='https://wandb.ai/llm-summarization-fbt3r5/huggingface/runs/zlgogti3' target=\"_blank\">https://wandb.ai/llm-summarization-fbt3r5/huggingface/runs/zlgogti3</a>"
            ]
          },
          "metadata": {}
        },
        {
          "output_type": "display_data",
          "data": {
            "text/plain": [
              "<IPython.core.display.HTML object>"
            ],
            "text/html": [
              "\n",
              "    <div>\n",
              "      \n",
              "      <progress value='1500' max='1500' style='width:300px; height:20px; vertical-align: middle;'></progress>\n",
              "      [1500/1500 16:43, Epoch 3/3]\n",
              "    </div>\n",
              "    <table border=\"1\" class=\"dataframe\">\n",
              "  <thead>\n",
              " <tr style=\"text-align: left;\">\n",
              "      <th>Step</th>\n",
              "      <th>Training Loss</th>\n",
              "      <th>Validation Loss</th>\n",
              "    </tr>\n",
              "  </thead>\n",
              "  <tbody>\n",
              "    <tr>\n",
              "      <td>200</td>\n",
              "      <td>2.373800</td>\n",
              "      <td>1.880854</td>\n",
              "    </tr>\n",
              "    <tr>\n",
              "      <td>400</td>\n",
              "      <td>5.637900</td>\n",
              "      <td>11.790870</td>\n",
              "    </tr>\n",
              "    <tr>\n",
              "      <td>600</td>\n",
              "      <td>6.250200</td>\n",
              "      <td>1.791905</td>\n",
              "    </tr>\n",
              "    <tr>\n",
              "      <td>800</td>\n",
              "      <td>3.719400</td>\n",
              "      <td>8.577353</td>\n",
              "    </tr>\n",
              "    <tr>\n",
              "      <td>1000</td>\n",
              "      <td>2.877300</td>\n",
              "      <td>1.817305</td>\n",
              "    </tr>\n",
              "    <tr>\n",
              "      <td>1200</td>\n",
              "      <td>1.489800</td>\n",
              "      <td>1.902968</td>\n",
              "    </tr>\n",
              "    <tr>\n",
              "      <td>1400</td>\n",
              "      <td>1.394900</td>\n",
              "      <td>1.746343</td>\n",
              "    </tr>\n",
              "  </tbody>\n",
              "</table><p>"
            ]
          },
          "metadata": {}
        },
        {
          "output_type": "stream",
          "name": "stderr",
          "text": [
            "/usr/local/lib/python3.11/dist-packages/transformers/modeling_utils.py:2758: UserWarning: Moving the following attributes in the config to the generation config: {'max_length': 200, 'early_stopping': True, 'num_beams': 5}. You are seeing this warning because you've set generation parameters in the model config, as opposed to in the generation config.\n",
            "  warnings.warn(\n",
            "Could not locate the best model at ./results/checkpoint-1400/pytorch_model.bin, if you are running a distributed training on multiple nodes, you should activate `--save_on_each_node`.\n"
          ]
        },
        {
          "output_type": "execute_result",
          "data": {
            "text/plain": [
              "('./finetuned_model/tokenizer_config.json',\n",
              " './finetuned_model/special_tokens_map.json',\n",
              " './finetuned_model/sentencepiece.bpe.model',\n",
              " './finetuned_model/added_tokens.json',\n",
              " './finetuned_model/tokenizer.json')"
            ]
          },
          "metadata": {},
          "execution_count": 10
        }
      ]
    },
    {
      "cell_type": "code",
      "source": [
        "avg_rouge_scores_finetuned = calculate_avg_rouge_scores(val_dataset, model, tokenizer)\n",
        "print(\"avg : \", avg_rouge_scores_finetuned)"
      ],
      "metadata": {
        "colab": {
          "base_uri": "https://localhost:8080/"
        },
        "id": "gZ5hkKenTeCx",
        "outputId": "0fb7af09-3b10-4f48-e714-01c25dfcf7e5"
      },
      "execution_count": null,
      "outputs": [
        {
          "output_type": "stream",
          "name": "stdout",
          "text": [
            "idx :  460\n",
            "{'rouge-1': 0.3962264100943397, 'rouge-2': 0.11764705382461094, 'rouge-l': 0.35849056103773586}\n",
            "idx :  406\n",
            "{'rouge-1': 0.5591397805757892, 'rouge-2': 0.4102564058119659, 'rouge-l': 0.5591397805757892}\n",
            "idx :  206\n",
            "{'rouge-1': 0.47787610130785496, 'rouge-2': 0.21311474926095147, 'rouge-l': 0.44247787121935944}\n",
            "idx :  497\n",
            "{'rouge-1': 0.4277456601089245, 'rouge-2': 0.20720720270432602, 'rouge-l': 0.41618496646730596}\n",
            "idx :  67\n",
            "{'rouge-1': 0.3749999953719009, 'rouge-2': 0.19178081723316875, 'rouge-l': 0.36363635900826446}\n",
            "idx :  124\n",
            "{'rouge-1': 0.1777777727780523, 'rouge-2': 0.024691353031551073, 'rouge-l': 0.1777777727780523}\n",
            "idx :  152\n",
            "{'rouge-1': 0.4337349349448396, 'rouge-2': 0.1826923030810837, 'rouge-l': 0.38554216386050233}\n",
            "idx :  362\n",
            "{'rouge-1': 0.30630630137488846, 'rouge-2': 0.0965517191438766, 'rouge-l': 0.2522522473208344}\n",
            "idx :  493\n",
            "{'rouge-1': 0.4258064468129033, 'rouge-2': 0.2030456803875391, 'rouge-l': 0.39999999520000007}\n",
            "idx :  448\n",
            "{'rouge-1': 0.31481480981652954, 'rouge-2': 0.04615384117278161, 'rouge-l': 0.2777777727794925}\n",
            "avg :  {'rouge-1': 0.3894428213186022, 'rouge-2': 0.1693141125651855, 'rouge-l': 0.3633279490247336}\n"
          ]
        }
      ]
    },
    {
      "cell_type": "markdown",
      "source": [
        "debug japanese"
      ],
      "metadata": {
        "id": "H06maMIpjxj0"
      }
    },
    {
      "cell_type": "code",
      "source": [
        "text = val_dataset[0][\"text\"]\n",
        "# ref = val_dataset[0][\"summary\"]\n",
        "ref = \"株式会社ナムコは、1955年に有限会社中村製作所として設立され、1977年に社名をナムコに変更した日本のゲームメーカーおよびアミューズメント施設運営企業であった。1980年代には『パックマン』など多くのヒットゲームを生み出し、その後も『鉄拳』や『リッジレーザー』など多くの人気ゲームシリーズを発表した。2005年にバンダイと経営統合し、2006年にバンダイナムコゲームスに社名変更した。アミューズメント部門は2006年に独立し、2018年にバンダイナムコアミューズメントに社名変更した。ナムコは日本のゲーム産業史上重要な役割を果たした。そのブランドは現在でも後継企業で使用されている。\"\n",
        "summary = generate_summary(text, model, tokenizer)"
      ],
      "metadata": {
        "id": "xmC--3oGhCMt"
      },
      "execution_count": null,
      "outputs": []
    },
    {
      "cell_type": "code",
      "source": [
        "print(summary)"
      ],
      "metadata": {
        "colab": {
          "base_uri": "https://localhost:8080/"
        },
        "id": "2J3kbkhhhtE_",
        "outputId": "d8335254-dbe3-4ff0-bb38-eed0378e11cd"
      },
      "execution_count": null,
      "outputs": [
        {
          "output_type": "stream",
          "name": "stdout",
          "text": [
            "株式会社ナムコは、バンダイナムコエンターテインメントとバンダイナムコアミューズメントの本社を運営するゲームセンター「namco」を展開する企業。1988年に設立され、1991年9月に上場。2005年に廃止。本社は東京都大田区矢口2丁目1番21号で、本社ビルは東京都大田区矢口の本社ビル。2021年にマンションが建設された。\n"
          ]
        }
      ]
    },
    {
      "cell_type": "code",
      "source": [
        "print(ref)"
      ],
      "metadata": {
        "colab": {
          "base_uri": "https://localhost:8080/"
        },
        "id": "c7DgfVN-hukZ",
        "outputId": "e9a010e3-eddf-4c88-9ef5-0ae18e512b00"
      },
      "execution_count": null,
      "outputs": [
        {
          "output_type": "stream",
          "name": "stdout",
          "text": [
            "株式会社ナムコは、1955年に有限会社中村製作所として設立され、1977年に社名をナムコに変更した日本のゲームメーカーおよびアミューズメント施設運営企業であった。1980年代には『パックマン』など多くのヒットゲームを生み出し、その後も『鉄拳』や『リッジレーザー』など多くの人気ゲームシリーズを発表した。2005年にバンダイと経営統合し、2006年にバンダイナムコゲームスに社名変更した。アミューズメント部門は2006年に独立し、2018年にバンダイナムコアミューズメントに社名変更した。ナムコは日本のゲーム産業史上重要な役割を果たした。そのブランドは現在でも後継企業で使用されている。\n"
          ]
        }
      ]
    },
    {
      "cell_type": "code",
      "source": [
        "calculate_rouge_scores(\"株式会社ナムコ\", \"株式会社ナムコは\")"
      ],
      "metadata": {
        "colab": {
          "base_uri": "https://localhost:8080/"
        },
        "id": "OQjhyc9liF9h",
        "outputId": "61f143ba-42ac-4252-e7ce-3a3a6d523c8f"
      },
      "execution_count": null,
      "outputs": [
        {
          "output_type": "execute_result",
          "data": {
            "text/plain": [
              "{'rouge-1': 0.0, 'rouge-2': 0.0, 'rouge-l': 0.0}"
            ]
          },
          "metadata": {},
          "execution_count": 30
        }
      ]
    },
    {
      "cell_type": "code",
      "source": [
        "calculate_rouge_scores(summary, ref)"
      ],
      "metadata": {
        "colab": {
          "base_uri": "https://localhost:8080/"
        },
        "id": "4iO-jn6ghJZU",
        "outputId": "97bb4afc-b5c0-4380-c34e-b43bdf71eab1"
      },
      "execution_count": null,
      "outputs": [
        {
          "output_type": "execute_result",
          "data": {
            "text/plain": [
              "{'rouge-1': 0.0, 'rouge-2': 0.0, 'rouge-l': 0.0}"
            ]
          },
          "metadata": {},
          "execution_count": 27
        }
      ]
    },
    {
      "cell_type": "markdown",
      "source": [],
      "metadata": {
        "id": "pW6Uf3okZ3Ab"
      }
    }
  ]
}