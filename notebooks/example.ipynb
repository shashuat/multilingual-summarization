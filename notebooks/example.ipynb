{
 "cells": [
  {
   "cell_type": "code",
   "execution_count": 7,
   "metadata": {},
   "outputs": [],
   "source": [
    "from datasets import load_from_disk\n",
    "\n",
    "# Load French dataset\n",
    "fr_dataset = load_from_disk(\"/Data/shash/mul/mult_test/fr\")\n",
    "\n",
    "# Access train/validation/test splits\n",
    "train_data = fr_dataset[\"train\"]\n",
    "val_data = fr_dataset[\"validation\"]\n",
    "test_data = fr_dataset[\"test\"]\n"
   ]
  },
  {
   "cell_type": "code",
   "execution_count": 8,
   "metadata": {},
   "outputs": [
    {
     "name": "stdout",
     "output_type": "stream",
     "text": [
      "Title: Série alternée des entiers\n",
      "Text length: 23286\n",
      "Summary: La série alternée des entiers est une série mathématique dont les termes sont affectés de signes alternés (1 - 2 + 3 - 4 + ...). Cette série est divergente, car la suite de ses sommes partielles ne converge pas vers une limite finie. Cependant, des méthodes existent pour lui attribuer une valeur numérique, comme la sommation d'Abel qui aboutit à la valeur 1/4. L'étude de cette série est liée à celle de la série de Grandi et aux séries de puissances alternées. Les mathématiciens ont développé différentes méthodes pour sommer des séries divergentes, et plusieurs techniques, comme la linéarité, permettent de déterminer une valeur numérique à cette série, bien que celle-ci soit divergente. Ces méthodes sont appelées méthodes de sommation.\n",
      "Summary length: 744\n"
     ]
    }
   ],
   "source": [
    "# Example of the first training item\n",
    "example = train_data[4]\n",
    "print(f\"Title: {example['title']}\")\n",
    "print(f\"Text length: {len(example['text'])}\")\n",
    "print(f\"Summary: {example['summary']}\")\n",
    "print(f\"Summary length: {len(example['summary'])}\")\n"
   ]
  },
  {
   "cell_type": "code",
   "execution_count": null,
   "metadata": {},
   "outputs": [],
   "source": []
  }
 ],
 "metadata": {
  "kernelspec": {
   "display_name": "mul",
   "language": "python",
   "name": "python3"
  },
  "language_info": {
   "codemirror_mode": {
    "name": "ipython",
    "version": 3
   },
   "file_extension": ".py",
   "mimetype": "text/x-python",
   "name": "python",
   "nbconvert_exporter": "python",
   "pygments_lexer": "ipython3",
   "version": "3.11.11"
  }
 },
 "nbformat": 4,
 "nbformat_minor": 2
}
